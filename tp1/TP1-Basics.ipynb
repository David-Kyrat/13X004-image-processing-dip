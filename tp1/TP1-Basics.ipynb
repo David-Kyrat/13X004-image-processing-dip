{
 "cells": [
  {
   "cell_type": "markdown",
   "id": "5bb72af0",
   "metadata": {
    "pycharm": {
     "name": "#%% md\n"
    }
   },
   "source": [
    "<img style=\"float: left;\" src=\"images/unige_csd.png\" alt=\"drawing\" width=\"200\"/>\n",
    "\n",
    "# <center>Imagerie Numérique 2023 Automne</center>\n",
    "\n",
    "<center>September 28, 2023</center>"
   ]
  },
  {
   "cell_type": "markdown",
   "id": "31ffffe2",
   "metadata": {
    "pycharm": {
     "name": "#%% md\n"
    }
   },
   "source": [
    "# <center><ins>TP Class N°1 - Basics</ins></center>"
   ]
  },
  {
   "cell_type": "markdown",
   "id": "7b0efa5b",
   "metadata": {
    "pycharm": {
     "name": "#%% md\n"
    }
   },
   "source": [
    "#### *Instructions :*  \n",
    "\n",
    "* This TP should be completed and uploaded on Moodle before **Thursday 12 October 2023, 23h59**.\n",
    "* The name of the file you upload should be **TP1_name_surname.ipynb**.\n",
    "* If you need to include attached files to you TP (images, python files, ...), please archive them together in a **ZIP** folder named **TP1_name_surname.zip**."
   ]
  },
  {
   "cell_type": "markdown",
   "id": "b3e09f1f",
   "metadata": {
    "pycharm": {
     "name": "#%% md\n"
    }
   },
   "source": [
    "### Exercise 1 : Color Channels\n",
    "*(1 point)*"
   ]
  },
  {
   "cell_type": "markdown",
   "id": "8a77f18c",
   "metadata": {
    "pycharm": {
     "name": "#%% md\n"
    }
   },
   "source": [
    "Read the image *colors.jpg*.  \n",
    "\n",
    "(a) Display the original image using *matplotlib*."
   ]
  },
  {
   "cell_type": "code",
   "execution_count": null,
   "id": "b9d20fc0",
   "metadata": {
    "pycharm": {
     "name": "#%%\n"
    }
   },
   "outputs": [],
   "source": []
  },
  {
   "cell_type": "markdown",
   "id": "8da9c88e",
   "metadata": {
    "pycharm": {
     "name": "#%% md\n"
    }
   },
   "source": [
    "(b) On a 1x3 subplot, display the three color components separately using correctly chosen colormaps.  \n",
    "(That is, 'Reds_r' for red, 'Greens_r' for green and 'Blues_r' for blue)"
   ]
  },
  {
   "cell_type": "code",
   "execution_count": null,
   "id": "22f8f3aa",
   "metadata": {
    "pycharm": {
     "name": "#%%\n"
    }
   },
   "outputs": [],
   "source": []
  },
  {
   "cell_type": "markdown",
   "id": "92729c57",
   "metadata": {
    "pycharm": {
     "name": "#%% md\n"
    }
   },
   "source": [
    "(c) On 1x3 subplot, display three images:\n",
    "1. fill original image's first channel with zeros\n",
    "\n",
    "2. fill original image's second channel with zeros\n",
    "\n",
    "3. fill original image's third channel with zeros\n",
    "\n",
    "Explain the results"
   ]
  },
  {
   "cell_type": "code",
   "execution_count": null,
   "id": "940ab829",
   "metadata": {
    "pycharm": {
     "name": "#%%\n"
    }
   },
   "outputs": [],
   "source": []
  },
  {
   "cell_type": "markdown",
   "id": "a90ba1d5",
   "metadata": {
    "pycharm": {
     "name": "#%% md\n"
    }
   },
   "source": [
    "(d) To transform an RGB image to grayscale, you need to take a weighted average of the different color channels :\n",
    "\n",
    "$$grayscale = 0.2989 \\times R + 0.5870 \\times G + 0.1140 \\times B$$\n",
    "\n",
    "where, R,G,B are the red blue and green channels extracted (sliced) from the image.\n",
    "\n",
    "1. Implement this operation using *Numpy* @ operator between the original image and the weight vector\n",
    "\n",
    "$$w = [0.2125, 0.7154, 0.0721]$$\n",
    "\n",
    "2. Obtain the same result by using the function *skimage.color.rgb2gray()*. Display it.\n",
    "\n",
    "3. Compute singlechannel image by performing simple averaging of the color channels. Display it.\n",
    "\n",
    "3. Compare the images, that you have obtained. Explain the differences and similarities in results."
   ]
  },
  {
   "cell_type": "code",
   "execution_count": null,
   "id": "a20a86c2",
   "metadata": {
    "pycharm": {
     "name": "#%%\n"
    }
   },
   "outputs": [],
   "source": []
  },
  {
   "cell_type": "markdown",
   "id": "5f92d3de",
   "metadata": {
    "pycharm": {
     "name": "#%% md\n"
    }
   },
   "source": [
    "(e) On a 1x3 subplot, display the three histograms of the three color components separately (you may want to use the function plt.hist())"
   ]
  },
  {
   "cell_type": "code",
   "execution_count": null,
   "id": "636891c2",
   "metadata": {
    "pycharm": {
     "name": "#%%\n"
    }
   },
   "outputs": [],
   "source": []
  },
  {
   "cell_type": "markdown",
   "id": "18d9baf8",
   "metadata": {
    "pycharm": {
     "name": "#%% md\n"
    }
   },
   "source": [
    "### Exercise 2 : Numpy matrices\n",
    "\n",
    "*(1 point)*"
   ]
  },
  {
   "cell_type": "markdown",
   "id": "2d3f897e",
   "metadata": {
    "pycharm": {
     "name": "#%% md\n"
    }
   },
   "source": [
    "(a) Using *Numpy*, generate a gradient image like the one represented below :\n",
    "\n",
    "<img src=\"images/grad.png\" alt=\"drawing\" width=\"400\"/>\n",
    "\n",
    "* Its shape should be $[125, 500]$\n",
    "* Its dynamic range should be 0 to 255 encoded in a UINT8 array\n",
    "\n",
    "and display it using *matplotlib*."
   ]
  },
  {
   "cell_type": "code",
   "execution_count": null,
   "id": "c633750a",
   "metadata": {
    "pycharm": {
     "name": "#%%\n"
    },
    "scrolled": true
   },
   "outputs": [],
   "source": []
  },
  {
   "cell_type": "markdown",
   "id": "a3166b8b",
   "metadata": {
    "pycharm": {
     "name": "#%% md\n"
    }
   },
   "source": [
    "(b) Generate the images that are represented below using Numpy arrays of shape [2,2] and dtype boolean. Visualize the results on a $1 \\times 3$ grid.\n",
    "\n",
    "<img src=\"images/black_and_white.png\" alt=\"drawing\" width=\"800\"/>"
   ]
  },
  {
   "cell_type": "code",
   "execution_count": null,
   "id": "807b6d2a",
   "metadata": {
    "pycharm": {
     "name": "#%%\n"
    }
   },
   "outputs": [],
   "source": []
  },
  {
   "cell_type": "markdown",
   "id": "efa421c2",
   "metadata": {
    "pycharm": {
     "name": "#%% md\n"
    }
   },
   "source": [
    "(c) Find a way to write the third array as a combination of the first two using *numpy* operators (addition, multiplication, *np.bitwise_and()*, *np.bitwise_not(), ...*)"
   ]
  },
  {
   "cell_type": "code",
   "execution_count": null,
   "id": "ea2c36d1",
   "metadata": {
    "pycharm": {
     "name": "#%%\n"
    }
   },
   "outputs": [],
   "source": []
  },
  {
   "cell_type": "markdown",
   "id": "a68fd016",
   "metadata": {
    "pycharm": {
     "name": "#%% md\n"
    }
   },
   "source": [
    "(d) By correctly using color channels, only manipulating the gradient image you produced in (a), and the functions\n",
    "\n",
    "* *np.stack()*\n",
    "* *np.zeros_like()*\n",
    "\n",
    "Produce the following image :\n",
    "\n",
    "<img src=\"images/color_grad.png\" alt=\"drawing\" width=\"400\"/>"
   ]
  },
  {
   "cell_type": "code",
   "execution_count": null,
   "id": "46fb46e1",
   "metadata": {
    "pycharm": {
     "name": "#%%\n"
    }
   },
   "outputs": [],
   "source": []
  },
  {
   "cell_type": "markdown",
   "id": "8388d4c9",
   "metadata": {
    "pycharm": {
     "name": "#%% md\n"
    }
   },
   "source": [
    "---"
   ]
  },
  {
   "cell_type": "markdown",
   "id": "68ae46a6",
   "metadata": {
    "pycharm": {
     "name": "#%% md\n"
    }
   },
   "source": [
    "### Exercise 3 : Numpy operators\n",
    "*(1 point)*"
   ]
  },
  {
   "cell_type": "markdown",
   "id": "871e9e26",
   "metadata": {
    "pycharm": {
     "name": "#%% md\n"
    }
   },
   "source": [
    "(a) Read the image *lena.png* and display it. What is its dtype ? its dynamic range ? How many color channels does it have ?"
   ]
  },
  {
   "cell_type": "code",
   "execution_count": null,
   "id": "7db6e746",
   "metadata": {
    "pycharm": {
     "name": "#%%\n"
    }
   },
   "outputs": [],
   "source": []
  },
  {
   "cell_type": "markdown",
   "id": "b3269d17",
   "metadata": {
    "pycharm": {
     "name": "#%% md\n"
    }
   },
   "source": [
    "(b) Compute the MSE (L2 distance) between the two grayscale images (any two grayscale images from Ex. 1.d) by using *np.linalg.norm()*. Comment on the value."
   ]
  },
  {
   "cell_type": "code",
   "execution_count": null,
   "id": "de541c88",
   "metadata": {
    "pycharm": {
     "name": "#%%\n"
    }
   },
   "outputs": [],
   "source": []
  },
  {
   "cell_type": "markdown",
   "id": "598df10c",
   "metadata": {
    "pycharm": {
     "name": "#%% md\n"
    }
   },
   "source": [
    "(c) On the grayscale image, crop the face of Lena using a rectangle with coordinates :\n",
    "\n",
    "* Top-left (150, 100)\n",
    "* Down-right (375, 380)\n",
    "\n",
    "By using *Numpy* array slicing"
   ]
  },
  {
   "cell_type": "markdown",
   "id": "b6d0e190",
   "metadata": {
    "pycharm": {
     "name": "#%% md\n"
    },
    "scrolled": true
   },
   "source": [
    "(d) Normalize the RGB _lena.png_ image. First convert image to _np.float32_ and scale to _[0, 1]_ dynamic range, then substract _0.5_ from each color channel and divide each channel by _0.5_. Use Numpy scalar on matrix operations."
   ]
  },
  {
   "cell_type": "code",
   "execution_count": null,
   "id": "f8070617",
   "metadata": {
    "pycharm": {
     "name": "#%%\n"
    }
   },
   "outputs": [],
   "source": []
  },
  {
   "cell_type": "markdown",
   "id": "9a5bb4ad",
   "metadata": {
    "pycharm": {
     "name": "#%% md\n"
    }
   },
   "source": [
    "### Exercise 4 : Gaussian noise\n",
    "*(1 point)*"
   ]
  },
  {
   "cell_type": "markdown",
   "id": "9999757f",
   "metadata": {
    "pycharm": {
     "name": "#%% md\n"
    }
   },
   "source": [
    "Read the image *lena.png* and convert it to grayscale. Ensure that it has dtype _np.float32_ with dynamic range _[0, 1]_. "
   ]
  },
  {
   "cell_type": "code",
   "execution_count": null,
   "id": "2e4c2640",
   "metadata": {
    "pycharm": {
     "name": "#%%\n"
    },
    "scrolled": true
   },
   "outputs": [],
   "source": []
  },
  {
   "cell_type": "markdown",
   "id": "bcd87078",
   "metadata": {
    "pycharm": {
     "name": "#%% md\n"
    }
   },
   "source": [
    "(a) Define a *Numpy* array of same shape as the image, with each entry randomly sampled from a Gaussian distribution $\\mathcal{N}(0, \\sigma^2)$ with $\\sigma = 0.01, 0.3, 0.5$.\n",
    "\n",
    "Hint : Use *np.random.randn()* function"
   ]
  },
  {
   "cell_type": "code",
   "execution_count": null,
   "id": "17113c8a",
   "metadata": {
    "pycharm": {
     "name": "#%%\n"
    }
   },
   "outputs": [],
   "source": []
  },
  {
   "cell_type": "markdown",
   "id": "584f9f46",
   "metadata": {
    "pycharm": {
     "name": "#%% md\n"
    }
   },
   "source": [
    "(b) Add this noise to the grayscale image using numpy array addition and visualise the results on a 1x3 subplot."
   ]
  },
  {
   "cell_type": "code",
   "execution_count": null,
   "id": "afbca1b9",
   "metadata": {
    "pycharm": {
     "name": "#%%\n"
    },
    "scrolled": true
   },
   "outputs": [],
   "source": []
  },
  {
   "cell_type": "markdown",
   "id": "0ac59453",
   "metadata": {
    "pycharm": {
     "name": "#%% md\n"
    }
   },
   "source": [
    "(c) Redo the preceding step using the function *skimage.util.random_noise()* with parameter *clip=True*."
   ]
  },
  {
   "cell_type": "code",
   "execution_count": null,
   "id": "37c906d8",
   "metadata": {
    "pycharm": {
     "name": "#%%\n"
    }
   },
   "outputs": [],
   "source": []
  },
  {
   "cell_type": "markdown",
   "id": "bd1886b7",
   "metadata": {
    "pycharm": {
     "name": "#%% md\n"
    }
   },
   "source": [
    "(d) Explain why, for the same $\\sigma$, the two methods yield different visual results."
   ]
  },
  {
   "cell_type": "markdown",
   "id": "70ab9924",
   "metadata": {
    "pycharm": {
     "name": "#%% md\n"
    }
   },
   "source": [
    "--- Write your answer here ---"
   ]
  },
  {
   "cell_type": "markdown",
   "id": "437c80c6",
   "metadata": {
    "pycharm": {
     "name": "#%% md\n"
    }
   },
   "source": [
    "---"
   ]
  },
  {
   "cell_type": "markdown",
   "id": "f1740f27",
   "metadata": {
    "pycharm": {
     "name": "#%% md\n"
    }
   },
   "source": [
    "### Exercise 5 : Salt & Pepper Noise\n",
    "\n",
    "*(1 point)*"
   ]
  },
  {
   "cell_type": "markdown",
   "id": "880ea615",
   "metadata": {
    "pycharm": {
     "name": "#%% md\n"
    }
   },
   "source": [
    "Read the image *lena.png* and convert it to grayscale. Make sure that it has dtype float with dynamic range [0,1]. "
   ]
  },
  {
   "cell_type": "code",
   "execution_count": null,
   "id": "4d53fd65",
   "metadata": {
    "pycharm": {
     "name": "#%%\n"
    }
   },
   "outputs": [],
   "source": []
  },
  {
   "cell_type": "markdown",
   "id": "c0716f2b",
   "metadata": {
    "pycharm": {
     "name": "#%% md\n"
    }
   },
   "source": [
    "(a) Using *skimage.util.random_noise()* add the Salt & Pepper noise with density \n",
    "\n",
    "$$\\rho = 0.01, 0.1, 0.5$$\n",
    "\n",
    "and display the results."
   ]
  },
  {
   "cell_type": "code",
   "execution_count": null,
   "id": "92046388",
   "metadata": {
    "pycharm": {
     "name": "#%%\n"
    }
   },
   "outputs": [],
   "source": []
  },
  {
   "cell_type": "markdown",
   "id": "acb02cc8",
   "metadata": {
    "pycharm": {
     "name": "#%% md\n"
    }
   },
   "source": [
    "(b) Explain the differences between the Gaussian noise and the S&P noise. Which one do you think is harder to remove ? Why ?"
   ]
  },
  {
   "cell_type": "markdown",
   "id": "755e3c7a",
   "metadata": {
    "pycharm": {
     "name": "#%% md\n"
    }
   },
   "source": [
    "--- Write your answer here ---"
   ]
  },
  {
   "cell_type": "markdown",
   "id": "d4bad898",
   "metadata": {
    "pycharm": {
     "name": "#%% md\n"
    }
   },
   "source": [
    "(c) Write your own function that adds salt and pepper noise to the image. As inputs the function should take: input image - np.ndarray, p - percentage of the pixels to be replaced with noise. Make sure that your function works with singlechannel and multichannel images"
   ]
  },
  {
   "cell_type": "code",
   "execution_count": 1,
   "id": "c698a27f",
   "metadata": {
    "pycharm": {
     "name": "#%%\n"
    }
   },
   "outputs": [],
   "source": [
    "import numpy as np\n",
    "def add_salt_and_pepper(im_input: np.ndarray, p: float) -> np.ndarray:\n",
    "    pass"
   ]
  },
  {
   "cell_type": "markdown",
   "id": "4f805461",
   "metadata": {
    "pycharm": {
     "name": "#%% md\n"
    }
   },
   "source": [
    "---"
   ]
  },
  {
   "cell_type": "markdown",
   "id": "2b15aa8d",
   "metadata": {
    "pycharm": {
     "name": "#%% md\n"
    }
   },
   "source": [
    "### Exercise 6 : Mean and variance\n",
    "\n",
    "*(1 point)*"
   ]
  },
  {
   "cell_type": "markdown",
   "id": "502d6c11",
   "metadata": {
    "pycharm": {
     "name": "#%% md\n"
    }
   },
   "source": [
    "Read the image *lena.png* and convert it to grayscale. Make sure that it has dtype _np.float32_ with dynamic range _[0, 1]_.\n",
    "\n",
    "(a) Compute the global mean and the global variance of the image using *np.mean()* and *np.std()*"
   ]
  },
  {
   "cell_type": "code",
   "execution_count": 1,
   "id": "c79ba608",
   "metadata": {
    "pycharm": {
     "name": "#%%\n"
    }
   },
   "outputs": [],
   "source": []
  },
  {
   "cell_type": "markdown",
   "id": "6b2e5617",
   "metadata": {
    "pycharm": {
     "name": "#%% md\n"
    }
   },
   "source": [
    "Read the image *lena.png* as RGB image. Make sure that it has dtype _np.float32_ with dynamic range _[0, 1]_.\n",
    "\n",
    "(b) Compute the global mean and the global variance of each image channel using *np.mean()* and *np.std()*. \n",
    "\n",
    "_Hint_: use _axis_ parameter in _np.mean()_ and _np.std()_ functions"
   ]
  },
  {
   "cell_type": "code",
   "execution_count": 1,
   "id": "fda58c0b",
   "metadata": {
    "pycharm": {
     "name": "#%%\n"
    }
   },
   "outputs": [],
   "source": []
  },
  {
   "cell_type": "markdown",
   "id": "b48550fa",
   "metadata": {
    "pycharm": {
     "name": "#%% md\n"
    }
   },
   "source": [
    "(c) Compute the local mean and variance of the image for a window size $5 \\times 5$ with splitting\n",
    "steps 1 and 3. Display the obtained results as new (smaller) images. Explain the change\n",
    "in the image size and give an interpretation of the results, from an image processing point\n",
    "of view.\n",
    "\n",
    "*Hint :* You may use the function *view_as_windows()* from *skimage.util.shape* package.\n",
    "\n",
    "*Note :* do not use cycle, use Numpy array operations"
   ]
  },
  {
   "cell_type": "code",
   "execution_count": 1,
   "id": "ed31dcb9",
   "metadata": {
    "pycharm": {
     "name": "#%%\n"
    }
   },
   "outputs": [],
   "source": []
  },
  {
   "cell_type": "markdown",
   "id": "db736231",
   "metadata": {
    "pycharm": {
     "name": "#%% md\n"
    }
   },
   "source": [
    "---"
   ]
  }
 ],
 "metadata": {
  "kernelspec": {
   "display_name": "Python 3 (ipykernel)",
   "language": "python",
   "name": "python3"
  },
  "language_info": {
   "codemirror_mode": {
    "name": "ipython",
    "version": 3
   },
   "file_extension": ".py",
   "mimetype": "text/x-python",
   "name": "python",
   "nbconvert_exporter": "python",
   "pygments_lexer": "ipython3",
   "version": "3.10.12"
  }
 },
 "nbformat": 4,
 "nbformat_minor": 5
}
