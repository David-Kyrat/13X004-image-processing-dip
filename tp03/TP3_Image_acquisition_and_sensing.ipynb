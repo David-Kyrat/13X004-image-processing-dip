{
 "cells": [
  {
   "cell_type": "markdown",
   "metadata": {},
   "source": [
    "<img style=\"float: left;\" src=\"images/unige_csd.png\" alt=\"drawing\" width=\"200\"/>\n",
    "\n",
    "# <center>Imagerie Numérique 2023 Automne</center>\n",
    "\n",
    "<center>October 26, 2023</center>"
   ]
  },
  {
   "cell_type": "markdown",
   "metadata": {},
   "source": [
    "# <center><ins>TP Class N°3 - Image acquisition and sensing</ins></center>"
   ]
  },
  {
   "cell_type": "markdown",
   "metadata": {},
   "source": [
    "#### *Instructions :*  \n",
    "\n",
    "* This TP should be completed and uploaded on Moodle before **Thursday 9 November 2023, 23h59**.\n",
    "* The name of the file you upload should be **TP3_name_surname.ipynb**.\n",
    "* If you need to include attached files to you TP, please archive them together in a folder named **TP3_name_surname.zip**."
   ]
  },
  {
   "cell_type": "code",
   "execution_count": 45,
   "outputs": [],
   "source": [
    "import matplotlib.pyplot as plt\n",
    "import numpy as np\n",
    "import numpy.random\n",
    "from numpy import shape, uint8 as u8, uint32 as u32, uint64 as u64, float64 as f64\n",
    "from numpy.typing import NDArray\n",
    "from matplotlib.image import imread\n",
    "import skimage as sk\n",
    "import skimage.color as skc\n",
    "import matplotlib.image as mpim\n",
    "from copy import deepcopy\n",
    "\n",
    "FIG_SIZE = (20, 10)\n",
    "\n",
    "def imshow_gray(data, show=True):\n",
    "    x = 2\n",
    "    plt.imshow(data, cmap=\"gray\")\n",
    "    if show: plt.show()\n",
    "\n",
    "\n",
    "def imshow(data, show=True):\n",
    "    plt.imshow(data)\n",
    "    if show: plt.show()\n",
    "\n",
    "\n",
    "def MSE(im1, im2):\n",
    "    return np.sum((im1 - im2)**2) / (im1.shape[0] * im1.shape[1])"
   ],
   "metadata": {
    "collapsed": false,
    "ExecuteTime": {
     "end_time": "2023-11-08T16:19:40.714732790Z",
     "start_time": "2023-11-08T16:19:40.673874086Z"
    }
   }
  },
  {
   "cell_type": "markdown",
   "metadata": {},
   "source": [
    "# Exercise 1"
   ]
  },
  {
   "cell_type": "markdown",
   "metadata": {},
   "source": [
    "Have a look at the following image :\n",
    "\n",
    "![photography main parameters](images/photography_main_parameters.jpg)"
   ]
  },
  {
   "cell_type": "markdown",
   "metadata": {},
   "source": [
    "Using these illustrations, explain the concepts of Aperture, Shutter speed and ISO. How are they built in a modern Digital Single-Lens Reflex ?"
   ]
  },
  {
   "cell_type": "markdown",
   "metadata": {},
   "source": [
    "# Exercise 2"
   ]
  },
  {
   "cell_type": "markdown",
   "metadata": {},
   "source": [
    "(a) In a 100 × 100 RGB image each pixel is represented by 256 levels of intensity. How many bytes are needed to store these image without any compression?"
   ]
  },
  {
   "cell_type": "markdown",
   "metadata": {},
   "source": [
    "The image needs $\\log_2(256)$ bits to render the 256 levels i.e. 8bits. \n",
    "Its an rgb images so each pixel has 3 of those, hence 3B by pixel.\n",
    "The image has 100x100 pixels, so it needs $100 \\times 100 \\times 3 = 30000\\ Bits$ i.e. 30KB."
   ]
  },
  {
   "cell_type": "markdown",
   "metadata": {},
   "source": [
    "(b) In a 100 × 100 gray-scale image each pixel is represented by 4 levels of intensity. How many bytes are needed to store these image without any compression?"
   ]
  },
  {
   "cell_type": "markdown",
   "metadata": {},
   "source": [
    "Same computation:\n",
    "The image needs $\\log_2(4)$ bits to render the 4 levels i.e. 2b py pixel.\n",
    "$100 \\times 100 \\times 2 = 20000\\ bits\\ $ i.e. 2.5KB.\n"
   ]
  },
  {
   "cell_type": "markdown",
   "metadata": {},
   "source": [
    "(c) Generate a $100 \\times 100$ RGB image constituted of uniform random noise (use *numpy.random.uniform()*). Save it as a png file using *plt.imsave()*. Comment on the size of the file.\n",
    "\n",
    "**Hint :** In order to understand what is going on, you might want to load the image again in Python using *plt.imread()*"
   ]
  },
  {
   "cell_type": "markdown",
   "source": [],
   "metadata": {
    "collapsed": false
   }
  },
  {
   "cell_type": "code",
   "execution_count": 24,
   "metadata": {
    "ExecuteTime": {
     "end_time": "2023-11-08T16:09:19.623782436Z",
     "start_time": "2023-11-08T16:09:19.620064316Z"
    }
   },
   "outputs": [
    {
     "data": {
      "text/plain": "35308"
     },
     "execution_count": 24,
     "metadata": {},
     "output_type": "execute_result"
    }
   ],
   "source": [
    "from os import stat\n",
    "noise_img = np.random.uniform(0, 1, (100, 100, 3))\n",
    "plt.imsave(\"images/noise.png\", noise_img)\n",
    "stat(\"images/noise.png\").st_size"
   ]
  },
  {
   "cell_type": "markdown",
   "source": [
    "The size of the image is 35KB, which is approximately the same as what we computed in (a)."
   ],
   "metadata": {
    "collapsed": false
   }
  },
  {
   "cell_type": "markdown",
   "metadata": {},
   "source": [
    "(d) Generate a $100 \\times 100$ grayscale gradient image (see TP1 ex 2). Save it again as a png file. Comment."
   ]
  },
  {
   "cell_type": "code",
   "execution_count": 19,
   "metadata": {
    "ExecuteTime": {
     "end_time": "2023-11-08T16:04:43.310292032Z",
     "start_time": "2023-11-08T16:04:43.224092975Z"
    }
   },
   "outputs": [
    {
     "data": {
      "text/plain": "<Figure size 640x480 with 1 Axes>",
      "image/png": "[encoded data removed]"
     },
     "metadata": {},
     "output_type": "display_data"
    },
    {
     "data": {
      "text/plain": "<Figure size 640x480 with 1 Axes>",
      "image/png": "[encoded data removed]"
     },
     "metadata": {},
     "output_type": "display_data"
    }
   ],
   "source": [
    "linear_gradient = np.tile(np.linspace(0, 255, 100, dtype=u8), (100, 1))\n",
    "imshow_gray(linear_gradient)\n",
    "plt.imsave(\"images/gray_dient.png\", linear_gradient, cmap=\"gray\")\n",
    "imshow_gray(plt.imread(\"images/gray_dient.png\"))\n"
   ]
  },
  {
   "cell_type": "code",
   "execution_count": 25,
   "outputs": [
    {
     "data": {
      "text/plain": "459"
     },
     "execution_count": 25,
     "metadata": {},
     "output_type": "execute_result"
    }
   ],
   "source": [
    "stat('images/gray_dient.png').st_size\n"
   ],
   "metadata": {
    "collapsed": false,
    "ExecuteTime": {
     "end_time": "2023-11-08T16:09:35.832810331Z",
     "start_time": "2023-11-08T16:09:35.791868992Z"
    }
   }
  },
  {
   "cell_type": "markdown",
   "source": [
    "\n",
    "We get back the same image but the size of the grayscale image is 459B i.e. 0.46KB, which is much smaller than the RGB image.\n"
   ],
   "metadata": {
    "collapsed": false
   }
  },
  {
   "cell_type": "markdown",
   "metadata": {
    "tags": []
   },
   "source": [
    "# Exercise 3"
   ]
  },
  {
   "cell_type": "markdown",
   "metadata": {},
   "source": [
    "(a) Explain the difference between sampling and quantization."
   ]
  },
  {
   "cell_type": "markdown",
   "metadata": {},
   "source": [
    "- Sampling is the discretization of x axis \n",
    "- while quantization is the discretization of y axis\n",
    "\n",
    "By discretization on x axis, we mean the process of breaking up a continuous signal into a discrete signal.\n",
    "And by discretization on y axis, we mean the process of breaking up a larget set of value into a smaller one."
   ]
  },
  {
   "cell_type": "markdown",
   "metadata": {},
   "source": [
    "(b) You are given a continuous signal  *$f(x) = sin(x)+\\frac{1}{10} cos(10x)$* over the interval *$0 \\leq  x \\leq 8 \\pi$* and *$-1.1 \\leq y \\leq 1.1$*.\n",
    "\n",
    "Using *np.linspace()* and *plt.plot()*, visualize this continuous signal on the given interval with a high number of samples."
   ]
  },
  {
   "cell_type": "code",
   "execution_count": 46,
   "metadata": {
    "ExecuteTime": {
     "end_time": "2023-11-08T16:19:52.139399579Z",
     "start_time": "2023-11-08T16:19:51.468839429Z"
    }
   },
   "outputs": [
    {
     "data": {
      "text/plain": "<Figure size 640x480 with 1 Axes>",
      "image/png": "[encoded data removed]"
     },
     "metadata": {},
     "output_type": "display_data"
    }
   ],
   "source": [
    "def f(x):\n",
    "    return np.sin(x) + 0.1 * np.cos(10 * x)\n",
    "\n",
    "num_sample = u64(10e6)\n",
    "itv_x = np.linspace(0, 8 * np.pi, num_sample)\n",
    "itv_y = np.linspace(-1.1, 1.1, 10)\n",
    "\n",
    "#x, y = np.meshgrid(itv_x, itv_y)\n",
    "plt.yticks(itv_y)\n",
    "plt.plot(itv_x, f(itv_x))\n",
    "plt.show()\n"
   ]
  },
  {
   "cell_type": "markdown",
   "metadata": {},
   "source": [
    "(c) Choose various values of sampling and quantization for this signal and plot the results on a grid of subplots, varying both parameters. Comment on the quality of the approximation.\n",
    "\n",
    "**Hint :** Use *np.linspace()* and *np.digitize()* to generate the correct sampling and quantizations, try different values of samples and bins."
   ]
  },
  {
   "cell_type": "code",
   "execution_count": null,
   "metadata": {},
   "outputs": [],
   "source": []
  },
  {
   "cell_type": "markdown",
   "metadata": {},
   "source": [
    "> Answer here"
   ]
  },
  {
   "cell_type": "markdown",
   "metadata": {},
   "source": [
    "# Exercise 4"
   ]
  },
  {
   "cell_type": "markdown",
   "metadata": {},
   "source": [
    "(a) Generate a gradient image like the one represented in Figure 1. Encode the image with $k=7, 5, 3, 2, 1$ bits (Theme 3, page 109). Display and explain the results.\n",
    "\n",
    "<figure>\n",
    "<center>\n",
    "<img src='data:image/png;base64,iVBORw0KGgoAAAANSUhEUgAAAgMAAACGCAIAAADPWx5CAAAAA3NCSVQICAjb4U/gAAAAGXRFWHRTb2Z0d2FyZQBnbm9tZS1zY3JlZW5zaG907wO/PgAAAg1JREFUeJzt17ERAyAQBDHwuCT6rwB6cuAiPlgpONLPdtj33gVA2Gf6AACGKQFA3ff/nHPWWntva2s7foC1g/veW/4EACgBQJ0SANQpAUCdEgDUKQFAnRIA1CkBQJ0SANQpAUCdEgDUKQFAnRIA1CkBQJ0SANQpAUCdEgDUKQFAnRIA1CkBQJ0SANQpAUCdEgDUKQFAnRIA1CkBQJ0SANQpAUCdEgDUKQFAnRIA1CkBQJ0SANQpAUCdEgDUKQFAnRIA1CkBQJ0SANQpAUCdEgDUKQFAnRIA1CkBQJ0SANQpAUCdEgDUKQFAnRIA1CkBQJ0SANQpAUCdEgDUKQFAnRIA1CkBQJ0SANQpAUCdEgDUKQFAnRIA1CkBQJ0SANQpAUCdEgDUKQFAnRIA1CkBQJ0SANQpAUCdEgDUKQFAnRIA1CkBQJ0SANQpAUCdEgDUKQFAnRIA1CkBQJ0SANQpAUCdEgDUKQFAnRIA1CkBQJ0SANQpAUCdEgDUKQFAnRIA1CkBQJ0SANQpAUCdEgDUKQFAnRIA1CkBQJ0SANQpAUCdEgDUKQFAnRIA1CkBQJ0SANQpAUCdEgDUKQFAnRIA1CkBQJ0SANQpAUCdEgDUKQFAnRIA1CkBQJ0SANQpAUCdEgDUKQFAnRIA1CkBQJ0SANQpAUCdEgDUKQFAnRIA1O177/QNAEzyJwCoUwKAuh+FIAvVlYufEwAAAABJRU5ErkJggg==' width=\"150\" height=\"150\"/>\n",
    "<figcaption>Figure 1: Gradient image</figcaption></center>\n",
    "</figure>"
   ]
  },
  {
   "cell_type": "code",
   "execution_count": null,
   "metadata": {},
   "outputs": [],
   "source": []
  },
  {
   "cell_type": "markdown",
   "metadata": {},
   "source": [
    "> Answer here"
   ]
  },
  {
   "cell_type": "markdown",
   "metadata": {},
   "source": [
    "(b) Do the same for the grayscale image *lena.png*.  Display the obtained results."
   ]
  },
  {
   "cell_type": "code",
   "execution_count": null,
   "metadata": {},
   "outputs": [],
   "source": []
  },
  {
   "cell_type": "markdown",
   "metadata": {},
   "source": [
    "> Answer here"
   ]
  },
  {
   "cell_type": "markdown",
   "metadata": {},
   "source": [
    "# Exercise 5"
   ]
  },
  {
   "cell_type": "markdown",
   "metadata": {},
   "source": [
    "(a) Write the function that measures PSNR value between two images (see Theme 2, Lecture notes)."
   ]
  },
  {
   "cell_type": "code",
   "execution_count": null,
   "metadata": {},
   "outputs": [],
   "source": []
  },
  {
   "cell_type": "markdown",
   "metadata": {},
   "source": [
    "(b) Read the image *lena.png* and convert it to grayscale with dynamic range in $[0,1]$. Create 10 noisy lena images by adding a zero-mean white Gaussian noise with standard deviation $\\sigma = 0.1$."
   ]
  },
  {
   "cell_type": "code",
   "execution_count": null,
   "metadata": {},
   "outputs": [],
   "source": []
  },
  {
   "cell_type": "markdown",
   "metadata": {},
   "source": [
    "(c) Report the average PSNR value between the original and noisy images.\n",
    "> **Hint** Measure the PSNR between the original and each noisy image, then compute the mean of the results."
   ]
  },
  {
   "cell_type": "code",
   "execution_count": null,
   "metadata": {},
   "outputs": [],
   "source": []
  },
  {
   "cell_type": "markdown",
   "metadata": {},
   "source": [
    "(d) Perform image denoising by using the so named _frame averaging_ approach.\n",
    "> **Hint** Perform a pixel-wise summation of all noisy images. Divide the obtained sum image by the number of images in the summation."
   ]
  },
  {
   "cell_type": "code",
   "execution_count": null,
   "metadata": {},
   "outputs": [],
   "source": []
  },
  {
   "cell_type": "markdown",
   "metadata": {},
   "source": [
    "(e) Measure the PSNR between the original and the denoised image. Comment the obtained result in the light of the previous computations. Explain when (under which condition) _frame averaging_ is successful and when it does not work."
   ]
  },
  {
   "cell_type": "code",
   "execution_count": null,
   "metadata": {},
   "outputs": [],
   "source": []
  },
  {
   "cell_type": "markdown",
   "metadata": {},
   "source": [
    "> -- your answer --"
   ]
  },
  {
   "cell_type": "markdown",
   "metadata": {},
   "source": [
    "# Exercise 6"
   ]
  },
  {
   "cell_type": "markdown",
   "metadata": {},
   "source": [
    "You are given a pair of two images (reference and noisy) from the [RENOIR dataset](http://ani.stat.fsu.edu/~abarbu/Renoir.html).\n",
    "\n",
    "<p align=\"center\">\n",
    "<img src=\"images/reference.bmp\" alt=\"reference\" width=\"300\"/>\n",
    "<img src=\"images/noisy.bmp\" alt=\"noisy\" width=\"300\"/>\n",
    "</p>"
   ]
  },
  {
   "cell_type": "markdown",
   "metadata": {},
   "source": [
    "(a) Visualize each color channels for both images (a grayscale display of each channel). Are all channels equally affected by the noise? Justify your answer based on the _PSNR_ or _MSE_."
   ]
  },
  {
   "cell_type": "code",
   "execution_count": null,
   "metadata": {},
   "outputs": [],
   "source": []
  },
  {
   "cell_type": "markdown",
   "metadata": {},
   "source": [
    "> --your answer --"
   ]
  },
  {
   "cell_type": "markdown",
   "metadata": {},
   "source": [
    "(b) Try to decrease the noise by downsampling the image 2 times and then upsampling it back to its original size. Apply this method to the RGB noisy image. Measure the PSNR between the reference and the obtained denoised images.\n",
    "> **Hint** To measure the PSNR between RGB images, compute the PSNR for each color channel and then take the average value."
   ]
  },
  {
   "cell_type": "code",
   "execution_count": null,
   "metadata": {},
   "outputs": [],
   "source": []
  },
  {
   "cell_type": "markdown",
   "metadata": {},
   "source": [
    "(c) Convert both images to grayscale and redo part (b). Explain why the PSNR is higher for the denoised grayscale image.\n",
    "> **Hint**: The reason is linked to exercise 4. Explain why."
   ]
  },
  {
   "cell_type": "code",
   "execution_count": null,
   "metadata": {},
   "outputs": [],
   "source": []
  },
  {
   "cell_type": "markdown",
   "metadata": {},
   "source": [
    "> --your answer --"
   ]
  },
  {
   "cell_type": "markdown",
   "metadata": {},
   "source": [
    "(d) What other methods could you suggest to improve the noisy image quality?"
   ]
  },
  {
   "cell_type": "markdown",
   "metadata": {},
   "source": [
    "> --your answer --"
   ]
  },
  {
   "cell_type": "markdown",
   "metadata": {},
   "source": [
    "___"
   ]
  }
 ],
 "metadata": {
  "kernelspec": {
   "display_name": "Python 3 (ipykernel)",
   "language": "python",
   "name": "python3"
  },
  "language_info": {
   "codemirror_mode": {
    "name": "ipython",
    "version": 3
   },
   "file_extension": ".py",
   "mimetype": "text/x-python",
   "name": "python",
   "nbconvert_exporter": "python",
   "pygments_lexer": "ipython3",
   "version": "3.10.12"
  }
 },
 "nbformat": 4,
 "nbformat_minor": 4
}
