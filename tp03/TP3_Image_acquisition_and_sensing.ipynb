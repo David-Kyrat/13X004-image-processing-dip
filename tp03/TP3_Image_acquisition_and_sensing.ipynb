{
 "cells": [
  {
   "cell_type": "markdown",
   "metadata": {},
   "source": [
    "<img style=\"float: left;\" src=\"images/unige_csd.png\" alt=\"drawing\" width=\"200\"/>\n",
    "\n",
    "# <center>Imagerie Numérique 2023 Automne</center>\n",
    "\n",
    "<center>October 26, 2023</center>"
   ]
  },
  {
   "cell_type": "markdown",
   "metadata": {},
   "source": [
    "# <center><ins>TP Class N°3 - Image acquisition and sensing</ins></center>"
   ]
  },
  {
   "cell_type": "markdown",
   "metadata": {},
   "source": [
    "#### *Instructions :*  \n",
    "\n",
    "* This TP should be completed and uploaded on Moodle before **Thursday 9 November 2023, 23h59**.\n",
    "* The name of the file you upload should be **TP3_name_surname.ipynb**.\n",
    "* If you need to include attached files to you TP, please archive them together in a folder named **TP3_name_surname.zip**."
   ]
  },
  {
   "cell_type": "code",
   "execution_count": 5,
   "outputs": [],
   "source": [
    "import matplotlib.pyplot as plt\n",
    "import numpy as np\n",
    "import numpy.random\n",
    "from numpy import shape, uint8 as u8, uint32 as u32, uint64 as u64, float64 as f64\n",
    "from numpy.typing import NDArray\n",
    "from PIL import Image\n",
    "import skimage as sk\n",
    "import skimage.color as skc\n",
    "import matplotlib.image as mpim\n",
    "from copy import deepcopy\n",
    "\n",
    "FIG_SIZE = (20, 10)\n",
    "\n",
    "def imread(path: str, dtype: type = u8, grayscale: bool = False) -> NDArray:\n",
    "    \"\"\"\n",
    "    Load the image at given path into a numpy array\n",
    "    @param path: path to image (relative to this file)\n",
    "    @param dtype: if float, returned image will be in the [0, 1] range, else in [0, 255] (defaults to uint8)\n",
    "    @param grayscale: whether to load image as grayscale or not\n",
    "    @return: NDArray of shape (m, n, 3) if grayscale is False, else (m, n)\n",
    "    \"\"\"\n",
    "    img: Image = Image.open(path)\n",
    "    if grayscale: img = img.convert('L')\n",
    "    out = np.array(img)\n",
    "    # does not check that max is indeed 1 because it would be too costly\n",
    "    is_float = np.issubdtype(out.dtype, np.floating)\n",
    "    if np.issubdtype(dtype, np.floating) and not is_float: out = f64(out / 255.)\n",
    "    return out\n",
    "\n",
    "\n",
    "def imshow_gray(data, show=True, axis=True):\n",
    "    plt.imshow(data, cmap=\"gray\")\n",
    "    plt.axis(\"on\" if axis else \"off\")\n",
    "    if show: plt.show()\n",
    "\n",
    "\n",
    "def imshow(data, show=True, axis=True):\n",
    "    plt.imshow(data)\n",
    "    plt.axis(\"on\" if axis else \"off\")\n",
    "    if show: plt.show()\n",
    "\n",
    "def MSE(im1, im2):\n",
    "    return np.sum((im1 - im2)**2) / (im1.shape[0] * im1.shape[1])"
   ],
   "metadata": {
    "collapsed": false,
    "ExecuteTime": {
     "end_time": "2023-11-09T15:51:49.139864336Z",
     "start_time": "2023-11-09T15:51:48.894556177Z"
    }
   }
  },
  {
   "cell_type": "code",
   "execution_count": 6,
   "outputs": [],
   "source": [
    "def image_plot(idx: int, data, title=None, col_nb=4):\n",
    "    plt.subplot(1, col_nb, idx + 1)\n",
    "    plt.title(title if title else \"\")\n",
    "    imshow_gray(data, show=False, axis=False)\n"
   ],
   "metadata": {
    "collapsed": false,
    "ExecuteTime": {
     "end_time": "2023-11-09T15:51:49.147710846Z",
     "start_time": "2023-11-09T15:51:48.911997512Z"
    }
   }
  },
  {
   "cell_type": "markdown",
   "metadata": {},
   "source": [
    "# Exercise 1"
   ]
  },
  {
   "cell_type": "markdown",
   "metadata": {},
   "source": [
    "Have a look at the following image :\n",
    "\n",
    "![photography main parameters](images/photography_main_parameters.jpg)"
   ]
  },
  {
   "cell_type": "markdown",
   "metadata": {},
   "source": [
    "Using these illustrations, explain the concepts of Aperture, Shutter speed and ISO. How are they built in a modern Digital Single-Lens Reflex ?"
   ]
  },
  {
   "cell_type": "markdown",
   "metadata": {},
   "source": [
    "# Exercise 2"
   ]
  },
  {
   "cell_type": "markdown",
   "metadata": {},
   "source": [
    "(a) In a 100 × 100 RGB image each pixel is represented by 256 levels of intensity. How many bytes are needed to store these image without any compression?"
   ]
  },
  {
   "cell_type": "markdown",
   "metadata": {},
   "source": [
    "The image needs $\\log_2(256)$ bits to render the 256 levels i.e. 8bits. \n",
    "Its an rgb images so each pixel has 3 of those, hence 3B by pixel.\n",
    "The image has 100x100 pixels, so it needs $100 \\times 100 \\times 3 = 30000\\ Bits$ i.e. 30KB."
   ]
  },
  {
   "cell_type": "markdown",
   "metadata": {},
   "source": [
    "(b) In a 100 × 100 gray-scale image each pixel is represented by 4 levels of intensity. How many bytes are needed to store these image without any compression?"
   ]
  },
  {
   "cell_type": "markdown",
   "metadata": {},
   "source": [
    "Same computation:\n",
    "The image needs $\\log_2(4)$ bits to render the 4 levels i.e. 2b py pixel.\n",
    "$100 \\times 100 \\times 2 = 20000\\ bits\\ $ i.e. 2.5KB.\n"
   ]
  },
  {
   "cell_type": "markdown",
   "metadata": {},
   "source": [
    "(c) Generate a $100 \\times 100$ RGB image constituted of uniform random noise (use *numpy.random.uniform()*). Save it as a png file using *plt.imsave()*. Comment on the size of the file.\n",
    "\n",
    "**Hint :** In order to understand what is going on, you might want to load the image again in Python using *plt.imread()*"
   ]
  },
  {
   "cell_type": "markdown",
   "source": [],
   "metadata": {
    "collapsed": false
   }
  },
  {
   "cell_type": "code",
   "execution_count": 7,
   "metadata": {
    "ExecuteTime": {
     "end_time": "2023-11-09T15:51:49.158746572Z",
     "start_time": "2023-11-09T15:51:48.927041492Z"
    }
   },
   "outputs": [
    {
     "data": {
      "text/plain": "35342"
     },
     "execution_count": 7,
     "metadata": {},
     "output_type": "execute_result"
    }
   ],
   "source": [
    "from os import stat\n",
    "noise_img = np.random.uniform(0, 1, (100, 100, 3))\n",
    "plt.imsave(\"images/noise.png\", noise_img)\n",
    "stat(\"images/noise.png\").st_size"
   ]
  },
  {
   "cell_type": "markdown",
   "source": [
    "The size of the image is 35KB, which is approximately the same as what we computed in (a)."
   ],
   "metadata": {
    "collapsed": false
   }
  },
  {
   "cell_type": "markdown",
   "metadata": {},
   "source": [
    "(d) Generate a $100 \\times 100$ grayscale gradient image (see TP1 ex 2). Save it again as a png file. Comment."
   ]
  },
  {
   "cell_type": "code",
   "execution_count": 8,
   "metadata": {
    "ExecuteTime": {
     "end_time": "2023-11-09T15:51:49.207064244Z",
     "start_time": "2023-11-09T15:51:48.952601867Z"
    }
   },
   "outputs": [
    {
     "data": {
      "text/plain": "<Figure size 640x480 with 1 Axes>",
      "image/png": "[encoded data removed]"
     },
     "metadata": {},
     "output_type": "display_data"
    },
    {
     "data": {
      "text/plain": "<Figure size 640x480 with 1 Axes>",
      "image/png": "[encoded data removed]"
     },
     "metadata": {},
     "output_type": "display_data"
    }
   ],
   "source": [
    "linear_gradient = np.tile(np.linspace(0, 255, 100, dtype=u8), (100, 1))\n",
    "imshow_gray(linear_gradient)\n",
    "plt.imsave(\"images/gray_dient.png\", linear_gradient, cmap=\"gray\")\n",
    "imshow_gray(plt.imread(\"images/gray_dient.png\"))\n"
   ]
  },
  {
   "cell_type": "code",
   "execution_count": 9,
   "outputs": [
    {
     "data": {
      "text/plain": "459"
     },
     "execution_count": 9,
     "metadata": {},
     "output_type": "execute_result"
    }
   ],
   "source": [
    "stat('images/gray_dient.png').st_size\n"
   ],
   "metadata": {
    "collapsed": false,
    "ExecuteTime": {
     "end_time": "2023-11-09T15:51:49.207290344Z",
     "start_time": "2023-11-09T15:51:49.073445499Z"
    }
   }
  },
  {
   "cell_type": "markdown",
   "source": [
    "\n",
    "We get back the same image but the size of the grayscale image is 459B i.e. 0.46KB, which is much smaller than the RGB image.\n"
   ],
   "metadata": {
    "collapsed": false
   }
  },
  {
   "cell_type": "markdown",
   "metadata": {
    "tags": []
   },
   "source": [
    "# Exercise 3"
   ]
  },
  {
   "cell_type": "markdown",
   "metadata": {},
   "source": [
    "(a) Explain the difference between sampling and quantization."
   ]
  },
  {
   "cell_type": "markdown",
   "metadata": {},
   "source": [
    "- Sampling is the discretization of x axis \n",
    "- while quantization is the discretization of y axis\n",
    "\n",
    "By discretization on x axis, we mean the process of breaking up a continuous signal into a discrete signal.\n",
    "And by discretization on y axis, we mean the process of breaking up a larget set of value into a smaller one."
   ]
  },
  {
   "cell_type": "markdown",
   "metadata": {},
   "source": [
    "(b) You are given a continuous signal  *$f(x) = sin(x)+\\frac{1}{10} cos(10x)$* over the interval *$0 \\leq  x \\leq 8 \\pi$* and *$-1.1 \\leq y \\leq 1.1$*.\n",
    "\n",
    "Using *np.linspace()* and *plt.plot()*, visualize this continuous signal on the given interval with a high number of samples."
   ]
  },
  {
   "cell_type": "code",
   "execution_count": 10,
   "metadata": {
    "ExecuteTime": {
     "end_time": "2023-11-09T15:51:50.091316183Z",
     "start_time": "2023-11-09T15:51:49.077558988Z"
    }
   },
   "outputs": [
    {
     "data": {
      "text/plain": "<Figure size 640x480 with 1 Axes>",
      "image/png": "[encoded data removed]"
     },
     "metadata": {},
     "output_type": "display_data"
    }
   ],
   "source": [
    "def f(x):\n",
    "    return np.sin(x) + 0.1 * np.cos(10 * x)\n",
    "\n",
    "num_sample = u64(10e6)\n",
    "itv_x = np.linspace(0, 8 * np.pi, num_sample)\n",
    "itv_y = np.linspace(-1.1, 1.1, 10)\n",
    "\n",
    "#x, y = np.meshgrid(itv_x, itv_y)\n",
    "plt.yticks(itv_y)\n",
    "plt.plot(itv_x, f(itv_x))\n",
    "plt.show()\n"
   ]
  },
  {
   "cell_type": "markdown",
   "metadata": {},
   "source": [
    "(c) Choose various values of sampling and quantization for this signal and plot the results on a grid of subplots, varying both parameters. Comment on the quality of the approximation.\n",
    "\n",
    "**Hint :** Use *np.linspace()* and *np.digitize()* to generate the correct sampling and quantizations, try different values of samples and bins."
   ]
  },
  {
   "cell_type": "code",
   "execution_count": 10,
   "metadata": {
    "ExecuteTime": {
     "end_time": "2023-11-09T15:51:50.131278561Z",
     "start_time": "2023-11-09T15:51:50.087383641Z"
    }
   },
   "outputs": [],
   "source": []
  },
  {
   "cell_type": "markdown",
   "metadata": {},
   "source": [
    "> Answer here"
   ]
  },
  {
   "cell_type": "markdown",
   "metadata": {},
   "source": [
    "# Exercise 4"
   ]
  },
  {
   "cell_type": "markdown",
   "metadata": {},
   "source": [
    "(a) Generate a gradient image like the one represented in Figure 1. Encode the image with $k=7, 5, 3, 2, 1$ bits (Theme 3, page 109). Display and explain the results.\n",
    "\n",
    "<figure>\n",
    "<center>\n",
    "<img src='data:image/png;base64,iVBORw0KGgoAAAANSUhEUgAAAgMAAACGCAIAAADPWx5CAAAAA3NCSVQICAjb4U/gAAAAGXRFWHRTb2Z0d2FyZQBnbm9tZS1zY3JlZW5zaG907wO/PgAAAg1JREFUeJzt17ERAyAQBDHwuCT6rwB6cuAiPlgpONLPdtj33gVA2Gf6AACGKQFA3ff/nHPWWntva2s7foC1g/veW/4EACgBQJ0SANQpAUCdEgDUKQFAnRIA1CkBQJ0SANQpAUCdEgDUKQFAnRIA1CkBQJ0SANQpAUCdEgDUKQFAnRIA1CkBQJ0SANQpAUCdEgDUKQFAnRIA1CkBQJ0SANQpAUCdEgDUKQFAnRIA1CkBQJ0SANQpAUCdEgDUKQFAnRIA1CkBQJ0SANQpAUCdEgDUKQFAnRIA1CkBQJ0SANQpAUCdEgDUKQFAnRIA1CkBQJ0SANQpAUCdEgDUKQFAnRIA1CkBQJ0SANQpAUCdEgDUKQFAnRIA1CkBQJ0SANQpAUCdEgDUKQFAnRIA1CkBQJ0SANQpAUCdEgDUKQFAnRIA1CkBQJ0SANQpAUCdEgDUKQFAnRIA1CkBQJ0SANQpAUCdEgDUKQFAnRIA1CkBQJ0SANQpAUCdEgDUKQFAnRIA1CkBQJ0SANQpAUCdEgDUKQFAnRIA1CkBQJ0SANQpAUCdEgDUKQFAnRIA1CkBQJ0SANQpAUCdEgDUKQFAnRIA1CkBQJ0SANQpAUCdEgDUKQFAnRIA1CkBQJ0SANQpAUCdEgDUKQFAnRIA1CkBQJ0SANQpAUCdEgDUKQFAnRIA1O177/QNAEzyJwCoUwKAuh+FIAvVlYufEwAAAABJRU5ErkJggg==' width=\"150\" height=\"150\"/>\n",
    "<figcaption>Figure 1: Gradient image</figcaption></center>\n",
    "</figure>"
   ]
  },
  {
   "cell_type": "code",
   "execution_count": 14,
   "outputs": [
    {
     "data": {
      "text/plain": "<Figure size 2000x1000 with 5 Axes>",
      "image/png": "[encoded data removed]"
     },
     "metadata": {},
     "output_type": "display_data"
    }
   ],
   "source": [
    "dim = 500\n",
    "linear_gradient = np.tile(np.linspace(0, 255, dim, dtype=u8), (dim, 1))\n",
    "\n",
    "ks = [7, 5, 3, 2, 1]\n",
    "\n",
    "plt.figure(figsize=FIG_SIZE)\n",
    "for i, k in enumerate(ks): \n",
    "    # \"downgrading\" image by shifting by 1 or more power of 2 the max gray value\n",
    "    data = (linear_gradient >> 8-k) / ((2**k) - 1)\n",
    "    image_plot(i, data, f\"{2 ** k} level of gray -- k = {k}\", col_nb=5)\n",
    "plt.show()\n",
    "\n",
    "#imshow_gray(linear_gradient, axis=\"off\")\n"
   ],
   "metadata": {
    "collapsed": false,
    "ExecuteTime": {
     "end_time": "2023-11-09T15:52:55.206762018Z",
     "start_time": "2023-11-09T15:52:55.047654042Z"
    }
   }
  },
  {
   "cell_type": "markdown",
   "metadata": {},
   "source": [
    "We see that when we have K bits for the gray, instead of having a continuous grayscal as we might seem to see, we have in fact $2^k$ strips from black to white ($2^k$ colors)"
   ]
  },
  {
   "cell_type": "markdown",
   "metadata": {},
   "source": [
    "(b) Do the same for the grayscale image *lena.png*.  Display the obtained results."
   ]
  },
  {
   "cell_type": "code",
   "execution_count": 12,
   "metadata": {
    "ExecuteTime": {
     "end_time": "2023-11-09T15:51:50.542566537Z",
     "start_time": "2023-11-09T15:51:50.311128797Z"
    }
   },
   "outputs": [
    {
     "data": {
      "text/plain": "<Figure size 2000x1000 with 5 Axes>",
      "image/png": "[encoded data removed]"
     },
     "metadata": {},
     "output_type": "display_data"
    }
   ],
   "source": [
    "dim = 500\n",
    "lena = np.array(plt.imread(\"images/lena.png\"), dtype=u8)\n",
    "\n",
    "ks = [7, 5, 3, 2, 1]\n",
    "\n",
    "plt.figure(figsize=FIG_SIZE)\n",
    "for i, k in enumerate(ks):\n",
    "    data = (lena >> 8-k) / ((2**k) - 1)\n",
    "    image_plot(i, data, f\"{2 ** k} level of gray -- k = {k}\", col_nb=5)\n",
    "plt.show()\n",
    "\n"
   ]
  },
  {
   "cell_type": "markdown",
   "metadata": {},
   "source": [
    "> Answer here"
   ]
  },
  {
   "cell_type": "markdown",
   "metadata": {},
   "source": [
    "# Exercise 5"
   ]
  },
  {
   "cell_type": "markdown",
   "metadata": {},
   "source": [
    "(a) Write the function that measures PSNR value between two images (see Theme 2, Lecture notes)."
   ]
  },
  {
   "cell_type": "code",
   "execution_count": 12,
   "metadata": {
    "ExecuteTime": {
     "end_time": "2023-11-09T15:51:50.582014163Z",
     "start_time": "2023-11-09T15:51:50.540744620Z"
    }
   },
   "outputs": [],
   "source": []
  },
  {
   "cell_type": "markdown",
   "metadata": {},
   "source": [
    "(b) Read the image *lena.png* and convert it to grayscale with dynamic range in $[0,1]$. Create 10 noisy lena images by adding a zero-mean white Gaussian noise with standard deviation $\\sigma = 0.1$."
   ]
  },
  {
   "cell_type": "code",
   "execution_count": 12,
   "metadata": {
    "ExecuteTime": {
     "end_time": "2023-11-09T15:51:50.582195882Z",
     "start_time": "2023-11-09T15:51:50.581918652Z"
    }
   },
   "outputs": [],
   "source": []
  },
  {
   "cell_type": "markdown",
   "metadata": {},
   "source": [
    "(c) Report the average PSNR value between the original and noisy images.\n",
    "> **Hint** Measure the PSNR between the original and each noisy image, then compute the mean of the results."
   ]
  },
  {
   "cell_type": "code",
   "execution_count": 12,
   "metadata": {
    "ExecuteTime": {
     "end_time": "2023-11-09T15:51:50.582254949Z",
     "start_time": "2023-11-09T15:51:50.581997882Z"
    }
   },
   "outputs": [],
   "source": []
  },
  {
   "cell_type": "markdown",
   "metadata": {},
   "source": [
    "(d) Perform image denoising by using the so named _frame averaging_ approach.\n",
    "> **Hint** Perform a pixel-wise summation of all noisy images. Divide the obtained sum image by the number of images in the summation."
   ]
  },
  {
   "cell_type": "code",
   "execution_count": 12,
   "metadata": {
    "ExecuteTime": {
     "end_time": "2023-11-09T15:51:50.582700115Z",
     "start_time": "2023-11-09T15:51:50.582155698Z"
    }
   },
   "outputs": [],
   "source": []
  },
  {
   "cell_type": "markdown",
   "metadata": {},
   "source": [
    "(e) Measure the PSNR between the original and the denoised image. Comment the obtained result in the light of the previous computations. Explain when (under which condition) _frame averaging_ is successful and when it does not work."
   ]
  },
  {
   "cell_type": "code",
   "execution_count": 12,
   "metadata": {
    "ExecuteTime": {
     "end_time": "2023-11-09T15:51:50.583084955Z",
     "start_time": "2023-11-09T15:51:50.582228559Z"
    }
   },
   "outputs": [],
   "source": []
  },
  {
   "cell_type": "markdown",
   "metadata": {},
   "source": [
    "> -- your answer --"
   ]
  },
  {
   "cell_type": "markdown",
   "metadata": {},
   "source": [
    "# Exercise 6"
   ]
  },
  {
   "cell_type": "markdown",
   "metadata": {},
   "source": [
    "You are given a pair of two images (reference and noisy) from the [RENOIR dataset](http://ani.stat.fsu.edu/~abarbu/Renoir.html).\n",
    "\n",
    "<p align=\"center\">\n",
    "<img src=\"images/reference.bmp\" alt=\"reference\" width=\"300\"/>\n",
    "<img src=\"images/noisy.bmp\" alt=\"noisy\" width=\"300\"/>\n",
    "</p>"
   ]
  },
  {
   "cell_type": "markdown",
   "metadata": {},
   "source": [
    "(a) Visualize each color channels for both images (a grayscale display of each channel). Are all channels equally affected by the noise? Justify your answer based on the _PSNR_ or _MSE_."
   ]
  },
  {
   "cell_type": "code",
   "execution_count": 12,
   "metadata": {
    "ExecuteTime": {
     "end_time": "2023-11-09T15:51:50.583448282Z",
     "start_time": "2023-11-09T15:51:50.582273191Z"
    }
   },
   "outputs": [],
   "source": []
  },
  {
   "cell_type": "markdown",
   "metadata": {},
   "source": [
    "> --your answer --"
   ]
  },
  {
   "cell_type": "markdown",
   "metadata": {},
   "source": [
    "(b) Try to decrease the noise by downsampling the image 2 times and then upsampling it back to its original size. Apply this method to the RGB noisy image. Measure the PSNR between the reference and the obtained denoised images.\n",
    "> **Hint** To measure the PSNR between RGB images, compute the PSNR for each color channel and then take the average value."
   ]
  },
  {
   "cell_type": "code",
   "execution_count": 12,
   "metadata": {
    "ExecuteTime": {
     "end_time": "2023-11-09T15:51:50.583510316Z",
     "start_time": "2023-11-09T15:51:50.582303284Z"
    }
   },
   "outputs": [],
   "source": []
  },
  {
   "cell_type": "markdown",
   "metadata": {},
   "source": [
    "(c) Convert both images to grayscale and redo part (b). Explain why the PSNR is higher for the denoised grayscale image.\n",
    "> **Hint**: The reason is linked to exercise 4. Explain why."
   ]
  },
  {
   "cell_type": "code",
   "execution_count": 12,
   "metadata": {
    "ExecuteTime": {
     "end_time": "2023-11-09T15:51:50.583559227Z",
     "start_time": "2023-11-09T15:51:50.582401591Z"
    }
   },
   "outputs": [],
   "source": []
  },
  {
   "cell_type": "markdown",
   "metadata": {},
   "source": [
    "> --your answer --"
   ]
  },
  {
   "cell_type": "markdown",
   "metadata": {},
   "source": [
    "(d) What other methods could you suggest to improve the noisy image quality?"
   ]
  },
  {
   "cell_type": "markdown",
   "metadata": {},
   "source": [
    "> --your answer --"
   ]
  },
  {
   "cell_type": "markdown",
   "metadata": {},
   "source": [
    "___"
   ]
  }
 ],
 "metadata": {
  "kernelspec": {
   "display_name": "Python 3 (ipykernel)",
   "language": "python",
   "name": "python3"
  },
  "language_info": {
   "codemirror_mode": {
    "name": "ipython",
    "version": 3
   },
   "file_extension": ".py",
   "mimetype": "text/x-python",
   "name": "python",
   "nbconvert_exporter": "python",
   "pygments_lexer": "ipython3",
   "version": "3.10.12"
  }
 },
 "nbformat": 4,
 "nbformat_minor": 4
}
