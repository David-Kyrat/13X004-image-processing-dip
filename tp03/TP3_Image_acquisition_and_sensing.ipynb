{
 "cells": [
  {
   "cell_type": "markdown",
   "metadata": {},
   "source": [
    "<img style=\"float: left;\" src=\"images/unige_csd.png\" alt=\"drawing\" width=\"200\"/>\n",
    "\n",
    "# <center>Imagerie Numérique 2023 Automne</center>\n",
    "\n",
    "<center>October 26, 2023</center>"
   ]
  },
  {
   "cell_type": "markdown",
   "metadata": {},
   "source": [
    "# <center><ins>TP Class N°3 - Image acquisition and sensing</ins></center>"
   ]
  },
  {
   "cell_type": "markdown",
   "metadata": {},
   "source": [
    "#### *Instructions :*  \n",
    "\n",
    "* This TP should be completed and uploaded on Moodle before **Thursday 9 November 2023, 23h59**.\n",
    "* The name of the file you upload should be **TP3_name_surname.ipynb**.\n",
    "* If you need to include attached files to you TP, please archive them together in a folder named **TP3_name_surname.zip**."
   ]
  },
  {
   "cell_type": "markdown",
   "metadata": {},
   "source": [
    "# Exercise 1"
   ]
  },
  {
   "cell_type": "markdown",
   "metadata": {},
   "source": [
    "Have a look at the following image :\n",
    "\n",
    "![photography main parameters](images/photography_main_parameters.jpg)"
   ]
  },
  {
   "cell_type": "markdown",
   "metadata": {},
   "source": [
    "Using these illustrations, explain the concepts of Aperture, Shutter speed and ISO. How are they built in a modern Digital Single-Lens Reflex ?"
   ]
  },
  {
   "cell_type": "markdown",
   "metadata": {},
   "source": [
    "# Exercise 2"
   ]
  },
  {
   "cell_type": "markdown",
   "metadata": {},
   "source": [
    "(a) In a 100 × 100 RGB image each pixel is represented by 256 levels of intensity. How many bytes are needed to store these image without any compression?"
   ]
  },
  {
   "cell_type": "markdown",
   "metadata": {},
   "source": [
    "> Answer here"
   ]
  },
  {
   "cell_type": "markdown",
   "metadata": {},
   "source": [
    "(b) In a 100 × 100 gray-scale image each pixel is represented by 4 levels of intensity. How many bytes are needed to store these image without any compression?"
   ]
  },
  {
   "cell_type": "markdown",
   "metadata": {},
   "source": [
    "> Answer here"
   ]
  },
  {
   "cell_type": "markdown",
   "metadata": {},
   "source": [
    "(c) Generate a $100 \\times 100$ RGB image constituted of uniform random noise (use *numpy.random.uniform()*). Save it as a png file using *plt.imsave()*. Comment on the size of the file.\n",
    "\n",
    "**Hint :** In order to understand what is going on, you might want to load the image again in Python using *plt.imread()*"
   ]
  },
  {
   "cell_type": "code",
   "execution_count": null,
   "metadata": {},
   "outputs": [],
   "source": []
  },
  {
   "cell_type": "markdown",
   "metadata": {},
   "source": [
    "(d) Generate a $100 \\times 100$ grayscale gradient image (see TP1 ex 2). Save it again as a png file. Comment."
   ]
  },
  {
   "cell_type": "code",
   "execution_count": null,
   "metadata": {},
   "outputs": [],
   "source": []
  },
  {
   "cell_type": "markdown",
   "metadata": {
    "tags": []
   },
   "source": [
    "# Exercise 3"
   ]
  },
  {
   "cell_type": "markdown",
   "metadata": {},
   "source": [
    "(a) Explain the difference between sampling and quantization."
   ]
  },
  {
   "cell_type": "markdown",
   "metadata": {},
   "source": [
    "> Answer here"
   ]
  },
  {
   "cell_type": "markdown",
   "metadata": {},
   "source": [
    "(b) You are given a continuous signal  *$f(x) = sin(x)+\\frac{1}{10} cos(10x)$* over the interval *$0 \\leq  x \\leq 8 \\pi$* and *$-1.1 \\leq y \\leq 1.1$*.\n",
    "\n",
    "Using *np.linspace()* and *plt.plot()*, visualize this continuous signal on the given interval with a high number of samples."
   ]
  },
  {
   "cell_type": "code",
   "execution_count": null,
   "metadata": {},
   "outputs": [],
   "source": []
  },
  {
   "cell_type": "markdown",
   "metadata": {},
   "source": [
    "(c) Choose various values of sampling and quantization for this signal and plot the results on a grid of subplots, varying both parameters. Comment on the quality of the approximation.\n",
    "\n",
    "**Hint :** Use *np.linspace()* and *np.digitize()* to generate the correct sampling and quantizations, try different values of samples and bins."
   ]
  },
  {
   "cell_type": "code",
   "execution_count": null,
   "metadata": {},
   "outputs": [],
   "source": []
  },
  {
   "cell_type": "markdown",
   "metadata": {},
   "source": [
    "> Answer here"
   ]
  },
  {
   "cell_type": "markdown",
   "metadata": {},
   "source": [
    "# Exercise 4"
   ]
  },
  {
   "cell_type": "markdown",
   "metadata": {},
   "source": [
    "(a) Generate a gradient image like the one represented in Figure 1. Encode the image with $k=7, 5, 3, 2, 1$ bits (Theme 3, page 109). Display and explain the results.\n",
    "\n",
    "<figure>\n",
    "<center>\n",
    "<img src='data:image/png;base64,iVBORw0KGgoAAAANSUhEUgAAAgMAAACGCAIAAADPWx5CAAAAA3NCSVQICAjb4U/gAAAAGXRFWHRTb2Z0d2FyZQBnbm9tZS1zY3JlZW5zaG907wO/PgAAAg1JREFUeJzt17ERAyAQBDHwuCT6rwB6cuAiPlgpONLPdtj33gVA2Gf6AACGKQFA3ff/nHPWWntva2s7foC1g/veW/4EACgBQJ0SANQpAUCdEgDUKQFAnRIA1CkBQJ0SANQpAUCdEgDUKQFAnRIA1CkBQJ0SANQpAUCdEgDUKQFAnRIA1CkBQJ0SANQpAUCdEgDUKQFAnRIA1CkBQJ0SANQpAUCdEgDUKQFAnRIA1CkBQJ0SANQpAUCdEgDUKQFAnRIA1CkBQJ0SANQpAUCdEgDUKQFAnRIA1CkBQJ0SANQpAUCdEgDUKQFAnRIA1CkBQJ0SANQpAUCdEgDUKQFAnRIA1CkBQJ0SANQpAUCdEgDUKQFAnRIA1CkBQJ0SANQpAUCdEgDUKQFAnRIA1CkBQJ0SANQpAUCdEgDUKQFAnRIA1CkBQJ0SANQpAUCdEgDUKQFAnRIA1CkBQJ0SANQpAUCdEgDUKQFAnRIA1CkBQJ0SANQpAUCdEgDUKQFAnRIA1CkBQJ0SANQpAUCdEgDUKQFAnRIA1CkBQJ0SANQpAUCdEgDUKQFAnRIA1CkBQJ0SANQpAUCdEgDUKQFAnRIA1CkBQJ0SANQpAUCdEgDUKQFAnRIA1CkBQJ0SANQpAUCdEgDUKQFAnRIA1CkBQJ0SANQpAUCdEgDUKQFAnRIA1O177/QNAEzyJwCoUwKAuh+FIAvVlYufEwAAAABJRU5ErkJggg==' width=\"150\" height=\"150\"/>\n",
    "<figcaption>Figure 1: Gradient image</figcaption></center>\n",
    "</figure>"
   ]
  },
  {
   "cell_type": "code",
   "execution_count": null,
   "metadata": {},
   "outputs": [],
   "source": []
  },
  {
   "cell_type": "markdown",
   "metadata": {},
   "source": [
    "> Answer here"
   ]
  },
  {
   "cell_type": "markdown",
   "metadata": {},
   "source": [
    "(b) Do the same for the grayscale image *lena.png*.  Display the obtained results."
   ]
  },
  {
   "cell_type": "code",
   "execution_count": null,
   "metadata": {},
   "outputs": [],
   "source": []
  },
  {
   "cell_type": "markdown",
   "metadata": {},
   "source": [
    "> Answer here"
   ]
  },
  {
   "cell_type": "markdown",
   "metadata": {},
   "source": [
    "# Exercise 5"
   ]
  },
  {
   "cell_type": "markdown",
   "metadata": {},
   "source": [
    "(a) Write the function that measures PSNR value between two images (see Theme 2, Lecture notes)."
   ]
  },
  {
   "cell_type": "code",
   "execution_count": null,
   "metadata": {},
   "outputs": [],
   "source": []
  },
  {
   "cell_type": "markdown",
   "metadata": {},
   "source": [
    "(b) Read the image *lena.png* and convert it to grayscale with dynamic range in $[0,1]$. Create 10 noisy lena images by adding a zero-mean white Gaussian noise with standard deviation $\\sigma = 0.1$."
   ]
  },
  {
   "cell_type": "code",
   "execution_count": null,
   "metadata": {},
   "outputs": [],
   "source": []
  },
  {
   "cell_type": "markdown",
   "metadata": {},
   "source": [
    "(c) Report the average PSNR value between the original and noisy images.\n",
    "> **Hint** Measure the PSNR between the original and each noisy image, then compute the mean of the results."
   ]
  },
  {
   "cell_type": "code",
   "execution_count": null,
   "metadata": {},
   "outputs": [],
   "source": []
  },
  {
   "cell_type": "markdown",
   "metadata": {},
   "source": [
    "(d) Perform image denoising by using the so named _frame averaging_ approach.\n",
    "> **Hint** Perform a pixel-wise summation of all noisy images. Divide the obtained sum image by the number of images in the summation."
   ]
  },
  {
   "cell_type": "code",
   "execution_count": null,
   "metadata": {},
   "outputs": [],
   "source": []
  },
  {
   "cell_type": "markdown",
   "metadata": {},
   "source": [
    "(e) Measure the PSNR between the original and the denoised image. Comment the obtained result in the light of the previous computations. Explain when (under which condition) _frame averaging_ is successful and when it does not work."
   ]
  },
  {
   "cell_type": "code",
   "execution_count": null,
   "metadata": {},
   "outputs": [],
   "source": []
  },
  {
   "cell_type": "markdown",
   "metadata": {},
   "source": [
    "> -- your answer --"
   ]
  },
  {
   "cell_type": "markdown",
   "metadata": {},
   "source": [
    "# Exercise 6"
   ]
  },
  {
   "cell_type": "markdown",
   "metadata": {},
   "source": [
    "You are given a pair of two images (reference and noisy) from the [RENOIR dataset](http://ani.stat.fsu.edu/~abarbu/Renoir.html).\n",
    "\n",
    "<p align=\"center\">\n",
    "<img src=\"images/reference.bmp\" alt=\"reference\" width=\"300\"/>\n",
    "<img src=\"images/noisy.bmp\" alt=\"noisy\" width=\"300\"/>\n",
    "</p>"
   ]
  },
  {
   "cell_type": "markdown",
   "metadata": {},
   "source": [
    "(a) Visualize each color channels for both images (a grayscale display of each channel). Are all channels equally affected by the noise? Justify your answer based on the _PSNR_ or _MSE_."
   ]
  },
  {
   "cell_type": "code",
   "execution_count": null,
   "metadata": {},
   "outputs": [],
   "source": []
  },
  {
   "cell_type": "markdown",
   "metadata": {},
   "source": [
    "> --your answer --"
   ]
  },
  {
   "cell_type": "markdown",
   "metadata": {},
   "source": [
    "(b) Try to decrease the noise by downsampling the image 2 times and then upsampling it back to its original size. Apply this method to the RGB noisy image. Measure the PSNR between the reference and the obtained denoised images.\n",
    "> **Hint** To measure the PSNR between RGB images, compute the PSNR for each color channel and then take the average value."
   ]
  },
  {
   "cell_type": "code",
   "execution_count": null,
   "metadata": {},
   "outputs": [],
   "source": []
  },
  {
   "cell_type": "markdown",
   "metadata": {},
   "source": [
    "(c) Convert both images to grayscale and redo part (b). Explain why the PSNR is higher for the denoised grayscale image.\n",
    "> **Hint**: The reason is linked to exercise 4. Explain why."
   ]
  },
  {
   "cell_type": "code",
   "execution_count": null,
   "metadata": {},
   "outputs": [],
   "source": []
  },
  {
   "cell_type": "markdown",
   "metadata": {},
   "source": [
    "> --your answer --"
   ]
  },
  {
   "cell_type": "markdown",
   "metadata": {},
   "source": [
    "(d) What other methods could you suggest to improve the noisy image quality?"
   ]
  },
  {
   "cell_type": "markdown",
   "metadata": {},
   "source": [
    "> --your answer --"
   ]
  },
  {
   "cell_type": "markdown",
   "metadata": {},
   "source": [
    "___"
   ]
  }
 ],
 "metadata": {
  "kernelspec": {
   "display_name": "Python 3 (ipykernel)",
   "language": "python",
   "name": "python3"
  },
  "language_info": {
   "codemirror_mode": {
    "name": "ipython",
    "version": 3
   },
   "file_extension": ".py",
   "mimetype": "text/x-python",
   "name": "python",
   "nbconvert_exporter": "python",
   "pygments_lexer": "ipython3",
   "version": "3.10.12"
  }
 },
 "nbformat": 4,
 "nbformat_minor": 4
}
