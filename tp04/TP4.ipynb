{
 "cells": [
  {
   "cell_type": "markdown",
   "metadata": {
    "collapsed": true,
    "jupyter": {
     "outputs_hidden": true
    }
   },
   "source": [
    "<img style=\"float: left;\" src=\"images/unige_csd.png\" alt=\"drawing\" width=\"200\"/>\n",
    "\n",
    "# <center>Imagerie Numérique 2023 Automne</center>\n",
    "\n",
    "<center>November 10, 2023</center>"
   ]
  },
  {
   "cell_type": "markdown",
   "metadata": {},
   "source": [
    "# <center><ins>TP Class N°4 - Histograms and point operations</ins></center>"
   ]
  },
  {
   "cell_type": "markdown",
   "metadata": {},
   "source": [
    "#### *Instructions :*  \n",
    "\n",
    "* This TP should be completed and uploaded on Moodle before **Thursday 23 November 2023, 23h59**.\n",
    "* The name of the file you upload should be **TP4_name_surname.ipynb**.\n",
    "* If you need to include attached files to you TP, please archive them together in a folder named **TP4_name_surname.zip**."
   ]
  },
  {
   "cell_type": "markdown",
   "metadata": {},
   "source": [
    "## Exercise 1. Exposure analysis"
   ]
  },
  {
   "cell_type": "markdown",
   "metadata": {},
   "source": [
    "You are given 3 images: _img\\_1.png_, _img\\_2.png_ and _img\\_3.png_."
   ]
  },
  {
   "cell_type": "markdown",
   "metadata": {},
   "source": [
    "(a) Plot the histograms of these images using the _histogram(.)_ function from the _skimage_ package."
   ]
  },
  {
   "cell_type": "code",
   "execution_count": null,
   "metadata": {
    "ExecuteTime": {
     "end_time": "2023-11-09T21:36:56.277032385Z",
     "start_time": "2023-11-09T21:36:56.203523384Z"
    }
   },
   "outputs": [],
   "source": []
  },
  {
   "cell_type": "markdown",
   "metadata": {},
   "source": [
    "(b) Try to detect if these images have problems with exposure. If yes, identify the reasons of these problems via histogram analysis."
   ]
  },
  {
   "cell_type": "markdown",
   "metadata": {},
   "source": [
    "> Answer here"
   ]
  },
  {
   "cell_type": "markdown",
   "metadata": {},
   "source": [
    "(c) Suggest an automatic procedure for detection of under/over-exposure in images."
   ]
  },
  {
   "cell_type": "markdown",
   "metadata": {},
   "source": [
    "> Answer here"
   ]
  },
  {
   "cell_type": "markdown",
   "metadata": {},
   "source": [
    "## Exercise 2. Contrast analysis"
   ]
  },
  {
   "cell_type": "markdown",
   "metadata": {},
   "source": [
    "You are given 3 images: _img\\_4.png_, _img\\_5.png_ and _img\\_6.png_.\n",
    "\n",
    "Detect and identify contrast problems in these images, if any. Justify your answer based on the analysis of the histograms."
   ]
  },
  {
   "cell_type": "code",
   "execution_count": null,
   "metadata": {
    "ExecuteTime": {
     "end_time": "2023-11-09T21:36:56.277390784Z",
     "start_time": "2023-11-09T21:36:56.203951295Z"
    }
   },
   "outputs": [],
   "source": []
  },
  {
   "cell_type": "markdown",
   "metadata": {},
   "source": [
    "## Exercise 3. Contrast adjustment"
   ]
  },
  {
   "cell_type": "markdown",
   "metadata": {},
   "source": [
    "**Important!** For color images, the histogram analysis should be performed individually on each color channel."
   ]
  },
  {
   "cell_type": "markdown",
   "metadata": {},
   "source": [
    "(a) Write a function that performs an image contrast adjustment (stretching). For more details see Theme 4."
   ]
  },
  {
   "cell_type": "code",
   "execution_count": null,
   "metadata": {
    "ExecuteTime": {
     "end_time": "2023-11-09T21:36:56.277555706Z",
     "start_time": "2023-11-09T21:36:56.204153687Z"
    }
   },
   "outputs": [],
   "source": []
  },
  {
   "cell_type": "markdown",
   "metadata": {},
   "source": [
    "(b) Apply your contrast adjustment function to the image _img 9.png_. Show image histogram before and after adjustment. Explain the result."
   ]
  },
  {
   "cell_type": "code",
   "execution_count": null,
   "metadata": {
    "ExecuteTime": {
     "end_time": "2023-11-09T21:36:56.277678253Z",
     "start_time": "2023-11-09T21:36:56.204389268Z"
    }
   },
   "outputs": [],
   "source": []
  },
  {
   "cell_type": "markdown",
   "metadata": {},
   "source": [
    "(c) Apply the _rescale intensity(.)_ function from the _skimage_ package to the original image. Compare the result with the results of your function. Explain the differences in image quality, if any."
   ]
  },
  {
   "cell_type": "code",
   "execution_count": null,
   "metadata": {
    "ExecuteTime": {
     "end_time": "2023-11-09T21:36:56.277794445Z",
     "start_time": "2023-11-09T21:36:56.204558825Z"
    }
   },
   "outputs": [],
   "source": []
  },
  {
   "cell_type": "markdown",
   "metadata": {},
   "source": [
    "(d) Perform the sub-exercise (c) with _in_range_ parameter defined by using _np.percentile(.)_ with _q_ parameter equals to (5, 95). Explain the difference between (c) and (d).\n",
    "\n",
    "> **Hint** : <br/>\n",
    "start, end = np.percentile(image, (5, 95)) <br/>\n",
    "adjusted image = rescale intensity(image, in range=(start, end))"
   ]
  },
  {
   "cell_type": "code",
   "execution_count": null,
   "metadata": {
    "ExecuteTime": {
     "end_time": "2023-11-09T21:36:56.277906405Z",
     "start_time": "2023-11-09T21:36:56.204758276Z"
    }
   },
   "outputs": [],
   "source": []
  },
  {
   "cell_type": "markdown",
   "metadata": {},
   "source": [
    "## Exercise 4. Histogram equalization"
   ]
  },
  {
   "cell_type": "markdown",
   "metadata": {},
   "source": [
    "(a) Perform histogram equalization to the image _img\\_11.png_ by using _equalize\\_hist(.)_ function from the _skimage_ package."
   ]
  },
  {
   "cell_type": "code",
   "execution_count": null,
   "metadata": {
    "ExecuteTime": {
     "end_time": "2023-11-09T21:36:56.278050791Z",
     "start_time": "2023-11-09T21:36:56.205400795Z"
    }
   },
   "outputs": [],
   "source": []
  },
  {
   "cell_type": "markdown",
   "metadata": {},
   "source": [
    "(b) Display the image histogram before and after equalization. Explain what the histogram equalization does."
   ]
  },
  {
   "cell_type": "code",
   "execution_count": null,
   "metadata": {
    "ExecuteTime": {
     "end_time": "2023-11-09T21:36:56.278168280Z",
     "start_time": "2023-11-09T21:36:56.205568325Z"
    }
   },
   "outputs": [],
   "source": []
  },
  {
   "cell_type": "markdown",
   "metadata": {},
   "source": [
    "## Exercise 5. Histogram matching"
   ]
  },
  {
   "cell_type": "markdown",
   "metadata": {},
   "source": [
    "(a) Apply the function _match_histograms(.)_ from _skimage_ package to _img_4.png_ using _img_2.png_ as a reference."
   ]
  },
  {
   "cell_type": "code",
   "execution_count": null,
   "metadata": {
    "ExecuteTime": {
     "end_time": "2023-11-09T21:36:56.278278433Z",
     "start_time": "2023-11-09T21:36:56.205714033Z"
    }
   },
   "outputs": [],
   "source": []
  },
  {
   "cell_type": "markdown",
   "metadata": {},
   "source": [
    "(b) Display the histograms of _img_2.png_, _img_4.png_ before transformation and _img_4.png_ after transformation."
   ]
  },
  {
   "cell_type": "code",
   "execution_count": null,
   "metadata": {
    "ExecuteTime": {
     "end_time": "2023-11-09T21:36:56.278393294Z",
     "start_time": "2023-11-09T21:36:56.205860683Z"
    }
   },
   "outputs": [],
   "source": []
  },
  {
   "cell_type": "markdown",
   "metadata": {},
   "source": [
    "(c) Answer to the following questions:\n",
    "\n",
    "• What does this function do ? <br/>\n",
    "• How does this function work ? <br/>\n",
    "• What can we use it for ?"
   ]
  },
  {
   "cell_type": "markdown",
   "metadata": {},
   "source": [
    "> Answer here"
   ]
  },
  {
   "cell_type": "markdown",
   "metadata": {},
   "source": [
    "## Exercise 6. Gamma Correction"
   ]
  },
  {
   "cell_type": "markdown",
   "metadata": {},
   "source": [
    "(a) Write a function that performs image gamma correction. For more details see Theme 4."
   ]
  },
  {
   "cell_type": "code",
   "execution_count": null,
   "metadata": {
    "ExecuteTime": {
     "end_time": "2023-11-09T21:36:56.278519014Z",
     "start_time": "2023-11-09T21:36:56.206006282Z"
    }
   },
   "outputs": [],
   "source": []
  },
  {
   "cell_type": "markdown",
   "metadata": {},
   "source": [
    "(b) Apply your function to img 3.png, for various gamma values. Try to determine the gamma value that best improves the visual image quality."
   ]
  },
  {
   "cell_type": "code",
   "execution_count": null,
   "metadata": {
    "ExecuteTime": {
     "end_time": "2023-11-09T21:36:56.278636436Z",
     "start_time": "2023-11-09T21:36:56.206150983Z"
    }
   },
   "outputs": [],
   "source": []
  },
  {
   "cell_type": "markdown",
   "metadata": {},
   "source": [
    "(c) Visualize the image before and after correction. Explain the result."
   ]
  },
  {
   "cell_type": "code",
   "execution_count": null,
   "metadata": {
    "ExecuteTime": {
     "end_time": "2023-11-09T21:36:56.278752676Z",
     "start_time": "2023-11-09T21:36:56.206370259Z"
    }
   },
   "outputs": [],
   "source": []
  },
  {
   "cell_type": "markdown",
   "metadata": {},
   "source": [
    "## Exercise 7. Digital negatives"
   ]
  },
  {
   "cell_type": "markdown",
   "metadata": {},
   "source": [
    "(a) Write a function that transforms an image into its digital negative."
   ]
  },
  {
   "cell_type": "code",
   "execution_count": null,
   "metadata": {
    "ExecuteTime": {
     "end_time": "2023-11-09T21:36:56.278864936Z",
     "start_time": "2023-11-09T21:36:56.247334840Z"
    }
   },
   "outputs": [],
   "source": []
  },
  {
   "cell_type": "markdown",
   "metadata": {},
   "source": [
    "(b) Choose 2 images from _img_1.png_ to _img_8.png_ and compute their digital negative. Visualize both the original and negative images."
   ]
  },
  {
   "cell_type": "code",
   "execution_count": null,
   "metadata": {
    "ExecuteTime": {
     "end_time": "2023-11-09T21:36:56.278991717Z",
     "start_time": "2023-11-09T21:36:56.247577346Z"
    }
   },
   "outputs": [],
   "source": []
  },
  {
   "cell_type": "markdown",
   "metadata": {},
   "source": [
    "(c) Explain in which situation this transformation could be useful."
   ]
  },
  {
   "cell_type": "markdown",
   "metadata": {},
   "source": [
    "> Answer here"
   ]
  },
  {
   "cell_type": "markdown",
   "metadata": {},
   "source": [
    "## Exercise 8. Image masking"
   ]
  },
  {
   "cell_type": "markdown",
   "metadata": {},
   "source": [
    "You are given the image _img_10.png_.\n",
    "\n",
    "(a) Perform image thresholding to obtain a binary segmentation mask. Display the results for various choices of threshold values."
   ]
  },
  {
   "cell_type": "code",
   "execution_count": null,
   "metadata": {
    "ExecuteTime": {
     "end_time": "2023-11-09T21:36:56.279095402Z",
     "start_time": "2023-11-09T21:36:56.247687376Z"
    }
   },
   "outputs": [],
   "source": []
  },
  {
   "cell_type": "markdown",
   "metadata": {},
   "source": [
    "(b) Perform a pixel-wise multiplication between the original image and the various segmentation masks to obtain masked versions of the original image at different threshold. Display the results."
   ]
  },
  {
   "cell_type": "code",
   "execution_count": null,
   "metadata": {
    "ExecuteTime": {
     "end_time": "2023-11-09T21:36:56.279202612Z",
     "start_time": "2023-11-09T21:36:56.247793953Z"
    }
   },
   "outputs": [],
   "source": []
  },
  {
   "cell_type": "markdown",
   "metadata": {},
   "source": [
    "(c) Which threshold value works best for the segmentation of the statuette ?"
   ]
  },
  {
   "cell_type": "markdown",
   "metadata": {},
   "source": [
    "> Answer here"
   ]
  },
  {
   "cell_type": "code",
   "execution_count": null,
   "metadata": {
    "ExecuteTime": {
     "end_time": "2023-11-09T21:36:56.279304321Z",
     "start_time": "2023-11-09T21:36:56.247887489Z"
    },
    "collapsed": false,
    "jupyter": {
     "outputs_hidden": false
    }
   },
   "outputs": [],
   "source": []
  }
 ],
 "metadata": {
  "kernelspec": {
   "display_name": "Python 3 (ipykernel)",
   "language": "python",
   "name": "python3"
  },
  "language_info": {
   "codemirror_mode": {
    "name": "ipython",
    "version": 3
   },
   "file_extension": ".py",
   "mimetype": "text/x-python",
   "name": "python",
   "nbconvert_exporter": "python",
   "pygments_lexer": "ipython3",
   "version": "3.10.13"
  }
 },
 "nbformat": 4,
 "nbformat_minor": 4
}
