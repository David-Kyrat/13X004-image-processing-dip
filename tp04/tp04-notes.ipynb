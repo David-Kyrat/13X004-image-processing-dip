{
 "cells": [
  {
   "cell_type": "markdown",
   "source": [
    "# Notes from TP4 Session on histograms and other stuff"
   ],
   "metadata": {
    "collapsed": false
   },
   "id": "aa2f461fe5e853c8"
  },
  {
   "cell_type": "markdown",
   "source": [
    "### Import & util stuff"
   ],
   "metadata": {
    "collapsed": false
   },
   "id": "1f8d0487e48972c1"
  },
  {
   "cell_type": "code",
   "execution_count": 1,
   "outputs": [],
   "source": [
    "import matplotlib.pyplot as plt\n",
    "import numpy as np\n",
    "from numpy import uint8 as u8, uint32 as u32, uint64 as u64, float64 as f64\n",
    "from numpy.typing import NDArray\n",
    "from PIL import Image\n",
    "FIG_SIZE = (20, 10)\n",
    "\n",
    "\n",
    "def imread(path: str, dtype: type = u8, grayscale: bool = False) -> NDArray:\n",
    "    \"\"\"\n",
    "    Load the image at given path into a numpy array\n",
    "    @param path: path to image (relative to this file)\n",
    "    @param dtype: if float, returned image will be in the [0, 1] range, else in [0, 255] (defaults to uint8)\n",
    "    @param grayscale: whether to load image as grayscale or not\n",
    "    @return: NDArray of shape (m, n, 3) if grayscale is False, else (m, n)\n",
    "    \"\"\"\n",
    "    img: Image = Image.open(path)\n",
    "    if grayscale: img = img.convert('L')\n",
    "    out = np.array(img)\n",
    "    # does not check that max is indeed 1 because it would be too costly\n",
    "    is_float = np.issubdtype(out.dtype, np.floating)\n",
    "    if np.issubdtype(dtype, np.floating) and not is_float: out = f64(out / 255.)\n",
    "    return out\n",
    "\n",
    "\n",
    "def imshow_gray(data, show=True, axis=True):\n",
    "    plt.imshow(data, cmap=\"gray\")\n",
    "    plt.axis(\"on\" if axis else \"off\")\n",
    "    if show: plt.show()\n",
    "\n",
    "\n",
    "def imshow(data, show=True, axis=True):\n",
    "    plt.imshow(data)\n",
    "    plt.axis(\"on\" if axis else \"off\")\n",
    "    if show: plt.show()\n",
    "\n",
    "\n",
    "def MSE(im1, im2):\n",
    "    return np.sum((im1 - im2) ** 2) / (im1.shape[0] * im1.shape[1])\n",
    "\n",
    "\n",
    "def image_plot(idx: int, data, title=None, col_nb=4, row_nb=1, gray=True):\n",
    "    plt.subplot(row_nb, col_nb, idx + 1)\n",
    "    plt.title(title if title else \"\")\n",
    "    plt.axis(\"off\")\n",
    "    plt.imshow(data, cmap=\"gray\" if gray else None)\n"
   ],
   "metadata": {
    "collapsed": false,
    "ExecuteTime": {
     "end_time": "2023-11-10T12:57:16.273101025Z",
     "start_time": "2023-11-10T12:57:16.059899449Z"
    }
   },
   "id": "e412bb59cdbb5b1a"
  },
  {
   "cell_type": "markdown",
   "source": [
    "## Histograms"
   ],
   "metadata": {
    "collapsed": false
   },
   "id": "775e0d953fddf54c"
  },
  {
   "cell_type": "code",
   "execution_count": 5,
   "outputs": [
    {
     "ename": "FileNotFoundError",
     "evalue": "[Errno 2] No such file or directory: 'images/lena.png'",
     "output_type": "error",
     "traceback": [
      "\u001B[0;31m---------------------------------------------------------------------------\u001B[0m",
      "\u001B[0;31mFileNotFoundError\u001B[0m                         Traceback (most recent call last)",
      "Cell \u001B[0;32mIn[5], line 6\u001B[0m\n\u001B[1;32m      3\u001B[0m     plt\u001B[38;5;241m.\u001B[39mhist(hist)\n\u001B[1;32m      4\u001B[0m     plt\u001B[38;5;241m.\u001B[39mshow()\n\u001B[0;32m----> 6\u001B[0m lena \u001B[38;5;241m=\u001B[39m \u001B[43mimread\u001B[49m\u001B[43m(\u001B[49m\u001B[38;5;124;43m\"\u001B[39;49m\u001B[38;5;124;43mimages/lena.png\u001B[39;49m\u001B[38;5;124;43m\"\u001B[39;49m\u001B[43m)\u001B[49m\n\u001B[1;32m      8\u001B[0m get_hist(lena)\n",
      "Cell \u001B[0;32mIn[1], line 17\u001B[0m, in \u001B[0;36mimread\u001B[0;34m(path, dtype, grayscale)\u001B[0m\n\u001B[1;32m      9\u001B[0m \u001B[38;5;28;01mdef\u001B[39;00m \u001B[38;5;21mimread\u001B[39m(path: \u001B[38;5;28mstr\u001B[39m, dtype: \u001B[38;5;28mtype\u001B[39m \u001B[38;5;241m=\u001B[39m u8, grayscale: \u001B[38;5;28mbool\u001B[39m \u001B[38;5;241m=\u001B[39m \u001B[38;5;28;01mFalse\u001B[39;00m) \u001B[38;5;241m-\u001B[39m\u001B[38;5;241m>\u001B[39m NDArray:\n\u001B[1;32m     10\u001B[0m \u001B[38;5;250m    \u001B[39m\u001B[38;5;124;03m\"\"\"\u001B[39;00m\n\u001B[1;32m     11\u001B[0m \u001B[38;5;124;03m    Load the image at given path into a numpy array\u001B[39;00m\n\u001B[1;32m     12\u001B[0m \u001B[38;5;124;03m    @param path: path to image (relative to this file)\u001B[39;00m\n\u001B[0;32m   (...)\u001B[0m\n\u001B[1;32m     15\u001B[0m \u001B[38;5;124;03m    @return: NDArray of shape (m, n, 3) if grayscale is False, else (m, n)\u001B[39;00m\n\u001B[1;32m     16\u001B[0m \u001B[38;5;124;03m    \"\"\"\u001B[39;00m\n\u001B[0;32m---> 17\u001B[0m     img: Image \u001B[38;5;241m=\u001B[39m \u001B[43mImage\u001B[49m\u001B[38;5;241;43m.\u001B[39;49m\u001B[43mopen\u001B[49m\u001B[43m(\u001B[49m\u001B[43mpath\u001B[49m\u001B[43m)\u001B[49m\n\u001B[1;32m     18\u001B[0m     \u001B[38;5;28;01mif\u001B[39;00m grayscale: img \u001B[38;5;241m=\u001B[39m img\u001B[38;5;241m.\u001B[39mconvert(\u001B[38;5;124m'\u001B[39m\u001B[38;5;124mL\u001B[39m\u001B[38;5;124m'\u001B[39m)\n\u001B[1;32m     19\u001B[0m     out \u001B[38;5;241m=\u001B[39m np\u001B[38;5;241m.\u001B[39marray(img)\n",
      "File \u001B[0;32m~/.local/share/virtualenvs/tp04-dNc3FYn1/lib64/python3.11/site-packages/PIL/Image.py:3218\u001B[0m, in \u001B[0;36mopen\u001B[0;34m(fp, mode, formats)\u001B[0m\n\u001B[1;32m   3215\u001B[0m     filename \u001B[38;5;241m=\u001B[39m fp\n\u001B[1;32m   3217\u001B[0m \u001B[38;5;28;01mif\u001B[39;00m filename:\n\u001B[0;32m-> 3218\u001B[0m     fp \u001B[38;5;241m=\u001B[39m \u001B[43mbuiltins\u001B[49m\u001B[38;5;241;43m.\u001B[39;49m\u001B[43mopen\u001B[49m\u001B[43m(\u001B[49m\u001B[43mfilename\u001B[49m\u001B[43m,\u001B[49m\u001B[43m \u001B[49m\u001B[38;5;124;43m\"\u001B[39;49m\u001B[38;5;124;43mrb\u001B[39;49m\u001B[38;5;124;43m\"\u001B[39;49m\u001B[43m)\u001B[49m\n\u001B[1;32m   3219\u001B[0m     exclusive_fp \u001B[38;5;241m=\u001B[39m \u001B[38;5;28;01mTrue\u001B[39;00m\n\u001B[1;32m   3221\u001B[0m \u001B[38;5;28;01mtry\u001B[39;00m:\n",
      "\u001B[0;31mFileNotFoundError\u001B[0m: [Errno 2] No such file or directory: 'images/lena.png'"
     ]
    }
   ],
   "source": [
    "def get_hist(image: NDArray):\n",
    "    hist = np.histogram(image, bins=256, range=(0, 256))[0]\n",
    "    plt.hist(hist)\n",
    "    plt.show()\n",
    "\n",
    "lena = imread(\"images/lena.png\")\n",
    " \n",
    "get_hist(lena)"
   ],
   "metadata": {
    "collapsed": false,
    "ExecuteTime": {
     "end_time": "2023-11-10T13:04:04.725790212Z",
     "start_time": "2023-11-10T13:04:04.720486821Z"
    }
   },
   "id": "6c4a112cc7b61c67"
  }
 ],
 "metadata": {
  "kernelspec": {
   "display_name": "Python 3",
   "language": "python",
   "name": "python3"
  },
  "language_info": {
   "codemirror_mode": {
    "name": "ipython",
    "version": 2
   },
   "file_extension": ".py",
   "mimetype": "text/x-python",
   "name": "python",
   "nbconvert_exporter": "python",
   "pygments_lexer": "ipython2",
   "version": "2.7.6"
  }
 },
 "nbformat": 4,
 "nbformat_minor": 5
}
