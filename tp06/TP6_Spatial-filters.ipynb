{
 "cells": [
  {
   "cell_type": "markdown",
   "metadata": {
    "collapsed": true,
    "pycharm": {
     "name": "#%% md\n"
    }
   },
   "source": [
    "<img style=\"float: left;\" src=\"images/unige_csd.png\" alt=\"drawing\" width=\"200\"/>\n",
    "\n",
    "# <center>Imagerie Numérique 2023 Automne</center>\n",
    "\n",
    "<center>December 8, 2023</center>"
   ]
  },
  {
   "cell_type": "markdown",
   "metadata": {
    "pycharm": {
     "name": "#%% md\n"
    }
   },
   "source": [
    "# <center><ins>TP Class N°6 - Spatial filters</ins></center>"
   ]
  },
  {
   "cell_type": "markdown",
   "metadata": {
    "pycharm": {
     "name": "#%% md\n"
    }
   },
   "source": [
    " #### *Instructions :*  \n",
    "\n",
    "* This TP should be completed and uploaded on Moodle before **Thursday 21 December 2023, 23h59**.\n",
    "* The name of the file you upload should be **TP6_name_surname.ipynb**.\n",
    "* If you need to include attached files to you TP, please archive them together in a folder named **TP6_name_surname.zip**."
   ]
  },
  {
   "cell_type": "markdown",
   "source": [
    "Preamble code with imports and helper functions:"
   ],
   "metadata": {
    "collapsed": false
   }
  },
  {
   "cell_type": "code",
   "execution_count": 1,
   "outputs": [],
   "source": [
    "import matplotlib.pyplot as plt\n",
    "import numpy as np\n",
    "from numpy import uint8 as u8, pi, uint32 as u32, uint64 as u64, float64 as f64, float32 as f32\n",
    "from numpy.typing import NDArray\n",
    "from PIL import Image\n",
    "from copy import deepcopy\n",
    "import skimage as sk\n",
    "import skimage.transform as skt\n",
    "\n",
    "FIG_SIZE = np.asarray((20, 10))\n",
    "FIG_SIZE_INV = np.asarray((10, 20))\n",
    "\n",
    "\n",
    "def imread(path: str, dtype: type = f64, grayscale: bool = False) -> NDArray:\n",
    "    \"\"\"\n",
    "    Load the image at given path into a numpy array\n",
    "    @param path: path to image (relative to this file)\n",
    "    @param dtype: if float, returned image will be in the [0, 1] range, else in [0, 255] (defaults to uint8)\n",
    "    @param grayscale: whether to load image as grayscale or not\n",
    "    @return: NDArray of shape (m, n, 3) if grayscale is False, else (m, n)\n",
    "    \"\"\"\n",
    "    # img: Image = Image.open(path)\n",
    "    # if grayscale: img = img.convert('L')\n",
    "    # out = np.array(img)\n",
    "    out: NDArray = plt.imread(path)\n",
    "    if grayscale and len(out.shape) >= 3: out = sk.color.rgb2gray(out)\n",
    "    if dtype is None: return out\n",
    "\n",
    "    img_max = np.max(out)\n",
    "    is_img_float = img_max <= 1\n",
    "    is_given_float = np.issubdtype(dtype, np.floating)\n",
    "    if not is_given_float and is_img_float:\n",
    "        out = u8(out * 255)\n",
    "    elif is_given_float and not is_img_float:\n",
    "        out = f64(out / 255.)\n",
    "    return out if out.dtype == dtype else out.astype(dtype)\n",
    "\n",
    "\n",
    "def imshow_gray(data, show=True, axis=True, title=None):\n",
    "    plt.imshow(data, cmap=\"gray\")\n",
    "    plt.axis(\"on\" if axis else \"off\")\n",
    "    if title: plt.title(title)\n",
    "    if show: plt.show()\n",
    "\n",
    "\n",
    "def imshow(data, show=True, axis=True, title=None):\n",
    "    plt.imshow(data)\n",
    "    plt.axis(\"on\" if axis else \"off\")\n",
    "    if title: plt.title(title)\n",
    "    if show: plt.show()\n",
    "\n",
    "\n",
    "def MSE(im1: NDArray[float], im2: NDArray[float]):\n",
    "    \"\"\"Ensure that dtype is float for both images before applying!\"\"\"\n",
    "    # return np.sum((im1 - im2) ** 2) / (im1.shape[0] * im1.shape[1])\n",
    "    return np.mean((im1 - im2) ** 2)\n",
    "\n",
    "\n",
    "def psnr(im1: NDArray[float], im2: NDArray[float]):\n",
    "    \"\"\"Ensure that dtype is float for both images before applying!\"\"\"\n",
    "    return 10 * np.log(img.max(im1) / MSE(im1, im2))\n",
    "\n",
    "\n",
    "def image_plot(idx: int, data, title=None, col=4, row=1, gray=True, vmax=None):\n",
    "    plt.subplot(row, col, idx + 1)\n",
    "    plt.title(title if title else \"\")\n",
    "    plt.axis(\"off\")\n",
    "    plt.imshow(data, cmap=\"gray\" if gray else None, vmin=0, vmax=vmax)\n",
    "    if idx == (col * row): plt.show()\n",
    "\n",
    "\n",
    "def bar_plot(idx: int, x, height, title=None, axis=\"off\", col=4, row=1, color=None):\n",
    "    plt.subplot(row, col, idx + 1)\n",
    "    plt.title(title if title else \"\")\n",
    "    plt.axis(axis)\n",
    "    plt.bar(x, height, color=color)\n",
    "    if idx == (col * row): plt.show()\n",
    "\n",
    "\n",
    "def to_anti_trig(angle, rad=False):\n",
    "    \"\"\"Transforms an angle in trigonometric sense (counter-clockwise) to anti-trigonometric sense (clockwise). \n",
    "    i.e. 2pi - angle\"\"\"\n",
    "    return 360 - angle if not rad else 2 * pi - angle"
   ],
   "metadata": {
    "collapsed": false,
    "ExecuteTime": {
     "end_time": "2023-12-20T21:36:16.625977039Z",
     "start_time": "2023-12-20T21:36:16.207092152Z"
    }
   }
  },
  {
   "cell_type": "markdown",
   "metadata": {
    "pycharm": {
     "name": "#%% md\n"
    }
   },
   "source": [
    "# Exercise 1. Explain the code <span style=\"font-size: 16px; font-weight:normal; font-style: italic;\"> (0.25 point)</span> <span style=\"color:red;font-size: 16px; font-weight:normal\">"
   ]
  },
  {
   "cell_type": "markdown",
   "metadata": {
    "pycharm": {
     "name": "#%% md\n"
    }
   },
   "source": [
    "Run the following code. Explain the difference in the produced results. Make conclusion."
   ]
  },
  {
   "cell_type": "code",
   "execution_count": 2,
   "metadata": {
    "collapsed": true,
    "jupyter": {
     "outputs_hidden": true
    },
    "pycharm": {
     "name": "#%%\n"
    },
    "ExecuteTime": {
     "end_time": "2023-12-20T21:32:01.220067507Z",
     "start_time": "2023-12-20T21:32:00.845231732Z"
    }
   },
   "outputs": [],
   "source": [
    "import numpy as np\n",
    "import matplotlib.pyplot as plt\n",
    "\n",
    "def plot(I, Titles, dr=1, dc=1, cmap=\"gray\"):\n",
    "    fig = plt.figure()\n",
    "    for i in range(len(I)):\n",
    "      plt.subplot(dr,dc,i+1)\n",
    "      plt.imshow(I[i], cmap=cmap)\n",
    "      plt.title(Titles[i])\n",
    "      plt.axis(\"off\")\n",
    "\n",
    "    plt.show()"
   ]
  },
  {
   "cell_type": "code",
   "execution_count": 1,
   "metadata": {
    "collapsed": true,
    "jupyter": {
     "outputs_hidden": true
    },
    "pycharm": {
     "name": "#%%\n"
    },
    "ExecuteTime": {
     "end_time": "2023-12-20T21:32:00.224281914Z",
     "start_time": "2023-12-20T21:32:00.152987612Z"
    }
   },
   "outputs": [
    {
     "ename": "NameError",
     "evalue": "name 'np' is not defined",
     "output_type": "error",
     "traceback": [
      "\u001B[0;31m---------------------------------------------------------------------------\u001B[0m",
      "\u001B[0;31mNameError\u001B[0m                                 Traceback (most recent call last)",
      "Cell \u001B[0;32mIn[1], line 1\u001B[0m\n\u001B[0;32m----> 1\u001B[0m image1 \u001B[38;5;241m=\u001B[39m \u001B[43mnp\u001B[49m\u001B[38;5;241m.\u001B[39marange(\u001B[38;5;241m0\u001B[39m, \u001B[38;5;241m255\u001B[39m)\u001B[38;5;241m*\u001B[39mnp\u001B[38;5;241m.\u001B[39mones((\u001B[38;5;241m255\u001B[39m, \u001B[38;5;241m255\u001B[39m))\n\u001B[1;32m      2\u001B[0m image2 \u001B[38;5;241m=\u001B[39m np\u001B[38;5;241m.\u001B[39mtranspose(np\u001B[38;5;241m.\u001B[39mcopy(image1))\n\u001B[1;32m      3\u001B[0m av1 \u001B[38;5;241m=\u001B[39m (image1 \u001B[38;5;241m+\u001B[39m image2)\u001B[38;5;241m/\u001B[39m\u001B[38;5;241m2\u001B[39m\n",
      "\u001B[0;31mNameError\u001B[0m: name 'np' is not defined"
     ]
    }
   ],
   "source": [
    "image1 = np.arange(0, 255)*np.ones((255, 255))\n",
    "image2 = np.transpose(np.copy(image1))\n",
    "av1 = (image1 + image2)/2\n",
    "av2 = image1/2 + image2/2\n",
    "\n",
    "plot([image1, image2, av1, av2], \n",
    "     [\"image1\", \"image2\", \"average1\", \"average2\"], \n",
    "     dc=4)\n",
    "\n",
    "image1 = image1.astype(np.uint8)\n",
    "image2 = image2.astype(np.uint8)\n",
    "av1 = (image1 + image2)/2\n",
    "av2 = image1/2 + image2/2\n",
    "\n",
    "plot([image1, image2, av1, av2], \n",
    "     [\"image1\", \"image2\", \"average1\", \"average2\"], \n",
    "     dc=4)"
   ]
  },
  {
   "cell_type": "markdown",
   "metadata": {
    "pycharm": {
     "name": "#%% md\n"
    }
   },
   "source": [
    "# Exercise 2. Convolution and correlation <span style=\"font-size: 16px; font-weight:normal; font-style: italic;\"> (0.75 point)</span>"
   ]
  },
  {
   "cell_type": "markdown",
   "metadata": {
    "pycharm": {
     "name": "#%% md\n"
    }
   },
   "source": [
    "Let there be the functions:\n",
    "\n",
    ">$\n",
    "\\begin{array}{rcl}\n",
    "x(n) & = & \\delta(n-1) + \\delta(n-2) + \\delta(n-3)\\\\\n",
    "h_1(n) & = & \\delta(n) + 2\\delta(n-1) + 3\\delta(n-2) \\\\\n",
    "h_2(n) & = & \\delta(n+2) + 2\\delta(n+1) + 3\\delta(n) + 2\\delta(n-1) + \\delta(n-2)\\\\\n",
    "\\end{array}\n",
    "$"
   ]
  },
  {
   "cell_type": "markdown",
   "metadata": {
    "pycharm": {
     "name": "#%% md\n"
    }
   },
   "source": [
    "(a) Convolve manually $x(n)$ with $h_1(n)$ and $h_2(n)$."
   ]
  },
  {
   "cell_type": "markdown",
   "metadata": {
    "pycharm": {
     "name": "#%% md\n"
    }
   },
   "source": [
    "(b) Correlate manually $x(n)$ with $h_1(n)$ and $h_2(n)$."
   ]
  },
  {
   "cell_type": "markdown",
   "metadata": {
    "pycharm": {
     "name": "#%% md\n"
    }
   },
   "source": [
    "# Exercise 3. Low Pass Filtering <span style=\"font-size: 16px; font-weight:normal; font-style: italic;\"> (1 point)</span>"
   ]
  },
  {
   "cell_type": "markdown",
   "metadata": {
    "pycharm": {
     "name": "#%% md\n"
    }
   },
   "source": [
    "(a) Program a function that performs image filtering with a square filter of arbitrary size. <br/>\n",
    "> **Important:** try to program with a min amount of loops. Ideally without any loops."
   ]
  },
  {
   "cell_type": "markdown",
   "metadata": {
    "pycharm": {
     "name": "#%% md\n"
    }
   },
   "source": [
    "(b)  By using your function, perform  the filtering of zero padded grayscale image *cameraman.jpg* with an average/box filter: <br/>\n",
    "> $ h = \\frac{1}{9} \\left( \\begin{array}\n",
    "  11 & 1 & 1 \\\\\n",
    "  1 & 1 & 1 \\\\\n",
    "  1 & 1 & 1 \\\\\n",
    "  \\end{array} \\right )$\n",
    "  \n",
    "  **Hint:** for zero padding the corresponding *numpy* function could be used."
   ]
  },
  {
   "cell_type": "markdown",
   "metadata": {
    "pycharm": {
     "name": "#%% md\n"
    }
   },
   "source": [
    "(c) By using your function, perform  the filtering of zero padded grayscale image *cameraman.jpg* with a Gaussian filter: <br/>\n",
    "> $\n",
    "\\begin{align*}\n",
    "\\textbf{h} = \\frac{1}{16} \\left ( \\begin{array}{ccc} \n",
    "\t1 & 2 & 1 \\\\\n",
    "\t2 & 4 & 2 \\\\\n",
    "\t1 & 2 & 1\n",
    "\\end{array}\n",
    "\\right )\n",
    "\\end{align*}\n",
    "$"
   ]
  },
  {
   "cell_type": "markdown",
   "metadata": {
    "pycharm": {
     "name": "#%% md\n"
    }
   },
   "source": [
    "(d) How could the average/box and Gaussian filters to be modified to increase the blurring effect, i.e. remove more high frequency components? "
   ]
  },
  {
   "cell_type": "markdown",
   "metadata": {
    "pycharm": {
     "name": "#%% md\n"
    }
   },
   "source": [
    "# Exercise 4. Border effects <span style=\"font-size: 16px; font-weight:normal; font-style: italic;\"> (1 point)</span>"
   ]
  },
  {
   "cell_type": "markdown",
   "metadata": {
    "pycharm": {
     "name": "#%% md\n"
    }
   },
   "source": [
    "Generate an image (as illistrated in Figure 1) of size 512 $\\times$ 512. \n",
    "<table>\n",
    "    <tr style=\"background-color:#FFFFFF;\">\n",
    "    <td style='text-align:center;'>\n",
    "       <img src='images/002.png' width=\"200\" height=\"200\"/>\n",
    "    </td>\n",
    "    </tr>\n",
    "    <tr>\n",
    "    <td style='text-align:center;'> \n",
    "    Figure 1.\n",
    "    </td>\n",
    "    </tr>\n",
    "</table>\n",
    "\n",
    "Using the *numpy* padding function and the box filter of size 31 $\\times$ 31 (use your implementation from the exercise 1): "
   ]
  },
  {
   "cell_type": "markdown",
   "metadata": {
    "pycharm": {
     "name": "#%% md\n"
    }
   },
   "source": [
    "(a) investigate the influence of tree types border padding: \n",
    "   * zero padding\n",
    "   * periodic extension\n",
    "   * symmetric flip or mirror reflection   "
   ]
  },
  {
   "cell_type": "markdown",
   "metadata": {
    "pycharm": {
     "name": "#%% md\n"
    }
   },
   "source": [
    "(b) Visualize the original, padded and filtered images. Explain the effects that one can observe."
   ]
  },
  {
   "cell_type": "markdown",
   "metadata": {
    "pycharm": {
     "name": "#%% md\n"
    }
   },
   "source": [
    "(c) What are the advantages and disadvantages of each type of border extension?"
   ]
  },
  {
   "cell_type": "markdown",
   "metadata": {
    "pycharm": {
     "name": "#%% md\n"
    }
   },
   "source": [
    "# Exercise 5. The Laplacian filter <span style=\"font-size: 16px; font-weight:normal; font-style: italic;\"> (1 point)</span> "
   ]
  },
  {
   "cell_type": "markdown",
   "metadata": {
    "pycharm": {
     "name": "#%% md\n"
    }
   },
   "source": [
    "The Laplacian filter kernel:\n",
    "> $\n",
    "\\begin{equation}\n",
    "\\nabla^2 f(x,y) = f(x-1, y) + f(x+1, y) + f(x, y-1) + f(x, y+1) - 4f(x,y) \\;\\;\\;\\;\\; (1)\n",
    "\\end{equation}\n",
    "$\n",
    "\n",
    "(a) Program and test (apply to the grayscale image *cameraman) the Laplacian filter based on the equation (1) and 3 $\\times$ 3 neighbourhood. <br/>\n",
    "> **Hint:** you can represent the equation (1) in a matrix form and use your implementaion  from the exercise 1."
   ]
  },
  {
   "cell_type": "markdown",
   "metadata": {
    "pycharm": {
     "name": "#%% md\n"
    }
   },
   "source": [
    "(b) Visualise the original and filtered images. Comment the effect of filtering."
   ]
  },
  {
   "cell_type": "markdown",
   "metadata": {
    "pycharm": {
     "name": "#%% md\n"
    }
   },
   "source": [
    "# Exercise 6. Mechanism of sharpening <span style=\"font-size: 16px; font-weight:normal; font-style: italic;\"> (1 point)</span>"
   ]
  },
  {
   "cell_type": "markdown",
   "metadata": {
    "pycharm": {
     "name": "#%% md\n"
    }
   },
   "source": [
    "Take the grayscale image *cameraman* $A$. Blur this image with a box filter of size 3 $\\times$ 3 $B$.\n",
    "\n",
    "(a) $E_1$: definding the optimal parameters perform the sharpening of $B$ using the Gaussian filter."
   ]
  },
  {
   "cell_type": "markdown",
   "metadata": {
    "pycharm": {
     "name": "#%% md\n"
    }
   },
   "source": [
    "(b) $E_2$: definding the optimal parameters perform the sharpening of $B$ using the Laplacian filter. <br/>\n",
    ">**Hint:** try to find the parameters that minimise the *mse* between the original $A$ and enhanced images $E_1$ and $E_2$."
   ]
  },
  {
   "cell_type": "markdown",
   "metadata": {
    "pycharm": {
     "name": "#%% md\n"
    }
   },
   "source": [
    "(c) Display blurred $B$ and enhanced images $E_1$ and $E_2$. Comment the quality of the enhanced images based on the visual quality and based on the *mse* between the original $A$ and enhanced images $E_1$ and $E_2$. <br/>\n",
    ">**Hint:** for this exercise use the formulas from the Theme 6 page 56."
   ]
  },
  {
   "cell_type": "markdown",
   "metadata": {
    "pycharm": {
     "name": "#%% md\n"
    }
   },
   "source": [
    "# Exercise 7. Order statistics filtering <span style=\"font-size: 16px; font-weight:normal; font-style: italic;\"> (1 point)</span>"
   ]
  },
  {
   "cell_type": "markdown",
   "metadata": {
    "pycharm": {
     "name": "#%% md\n"
    }
   },
   "source": [
    "You are given two noisy images *tp6_005* and *tp6_006* corrupted by \"impulse\" noise.\n",
    "<table>\n",
    "    <tr style=\"background-color:#FFFFFF;\">\n",
    "    <td style='text-align:center;'>\n",
    "       <img src='images/tp6_005.jpg' width=\"250\" />\n",
    "    </td>\n",
    "    <td style='text-align:center;'>\n",
    "       <img src='images/tp6_006.jpg' width=\"200\" />\n",
    "    </td>    \n",
    "    </tr>\n",
    "    <tr style=\"background-color:#FFFFFF;\">\n",
    "    <td style=\"text-align:center;\">(a) tp6_005</td>\n",
    "    <td style=\"text-align:center;\">(b) tp6_006</td>    \n",
    "    </tr>\n",
    "    <tr style=\"background-color:#FFFFFF;\">\n",
    "    <td colspan=2 style=\"text-align:center;\"> \n",
    "    Figure 2.\n",
    "    </td>\n",
    "    </tr>    \n",
    "</table>\n",
    "\n",
    "(a) Defining the optimal parameters (filter size) by yourself try to remove the noise with: \n",
    "   * averaging filter\n",
    "   * median filter"
   ]
  },
  {
   "cell_type": "markdown",
   "metadata": {
    "pycharm": {
     "name": "#%% md\n"
    }
   },
   "source": [
    "(b)  Visualise the images before and after filtering. Report the used parameres of filtering. Comment the denoising efficiency based on the visual image quality.   "
   ]
  },
  {
   "cell_type": "markdown",
   "metadata": {
    "pycharm": {
     "name": "#%% md\n"
    }
   },
   "source": [
    "# Exercise 8. Solving a Jigsaw Puzzle <span style=\"font-size: 16px; font-weight:normal; font-style: italic;\"> (1 point)</span> <span style=\"color:red;font-size: 16px; font-weight:normal\"> Non obligatory, bonus exercise</span> \n"
   ]
  },
  {
   "cell_type": "markdown",
   "metadata": {
    "pycharm": {
     "name": "#%% md\n"
    }
   },
   "source": [
    "The goal of this exercise is to use image processing to automatically solve a jigsaw puzzle. The image *tp6_003* (see Figure 3.a) shows the pieces of a jigsaw puzzle. The reference image *tp6_004* is shown in Figure 3.b. Note that when the puzzle pieces are assembled together, the completed puzzle has potentially a different area than the reference image.\n",
    "<table>\n",
    "    <tr style=\"background-color:#FFFFFF;\">\n",
    "    <td style='text-align:center;'>\n",
    "       <img src='images/tp6_003.png' width=\"450\" />\n",
    "    </td>\n",
    "    <td style='text-align:center;'>\n",
    "       <img src='images/tp6_004.jpg' width=\"150\" />\n",
    "    </td>    \n",
    "    </tr>\n",
    "    <tr style=\"background-color:#FFFFFF;\">\n",
    "    <td style=\"text-align:center;\">(a) Puzzle image tp6_003</td>\n",
    "    <td style=\"text-align:center;\">(b) Reference tp6_004</td>    \n",
    "    </tr>\n",
    "    <tr style=\"background-color:#FFFFFF;\">\n",
    "    <td colspan=2 style=\"text-align:center;\"> \n",
    "    Figure 3.\n",
    "    </td>\n",
    "    </tr>    \n",
    "</table>\n",
    "\n",
    "Implement an image processing algorithm to automatically locate where each jigsaw piece fits in completed puzzle. Clearly describe the steps of your algorithm, showing intermediate results for clarification if helpful. \n",
    "\n",
    "> **Hint:** for the cross-correlation you might use *scipy.signal.correlate2d(.)*. \n",
    ">\n",
    "> **Important:** for cross-correlation both images should be normalized (zero mean, unit variance)."
   ]
  },
  {
   "cell_type": "code",
   "execution_count": null,
   "metadata": {
    "collapsed": false
   },
   "outputs": [],
   "source": []
  }
 ],
 "metadata": {
  "kernelspec": {
   "display_name": "Python 3 (ipykernel)",
   "language": "python",
   "name": "python3"
  },
  "language_info": {
   "codemirror_mode": {
    "name": "ipython",
    "version": 3
   },
   "file_extension": ".py",
   "mimetype": "text/x-python",
   "name": "python",
   "nbconvert_exporter": "python",
   "pygments_lexer": "ipython3",
   "version": "3.10.13"
  }
 },
 "nbformat": 4,
 "nbformat_minor": 4
}
