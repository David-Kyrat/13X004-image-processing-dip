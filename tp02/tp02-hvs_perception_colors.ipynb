{
 "cells": [
  {
   "cell_type": "markdown",
   "source": [
    "<img style=\"float: left;\" src=\"images/unige_csd.png\" alt=\"drawing\" width=\"200\"/>\n",
    "\n",
    "# <center>Imagerie Numérique 2023 Automne</center>\n",
    "\n",
    "<center>October 20, 2023</center>"
   ],
   "metadata": {
    "collapsed": false
   },
   "id": "54fae4444918f1fa"
  },
  {
   "cell_type": "markdown",
   "source": [
    "---"
   ],
   "metadata": {
    "collapsed": false
   },
   "id": "7fd9a6c76c015878"
  },
  {
   "cell_type": "markdown",
   "id": "43043dd702ffe314",
   "metadata": {},
   "source": [
    "# <center><ins>TP Class N°2 - HVS perception and colors</ins></center>"
   ]
  },
  {
   "cell_type": "markdown",
   "id": "d0728dbe1613ab9e",
   "metadata": {},
   "source": [
    "#### *Instructions :*  \n",
    "\n",
    "* This TP should be completed and uploaded on Moodle before **Thursday 26 October 2023, 23h59**.\n",
    "* <font color=red>The name of the file you upload should be **TP2_name_surname.ipynb**.</font>\n",
    "* If you need to include attached files to you TP, please archive them together in a folder named **TP2_name_surname.zip**."
   ]
  },
  {
   "cell_type": "markdown",
   "id": "a350a4e5df9b14a",
   "metadata": {},
   "source": [
    "## Exercise 1 : \n",
    "\n",
    "*(1 point)*"
   ]
  },
  {
   "cell_type": "markdown",
   "id": "3b0979b3f3dcee40",
   "metadata": {},
   "source": [
    "### (a) What are the main components of the HVS as an optical system? What are the characteristics and limits of each of its components?"
   ]
  },
  {
   "cell_type": "markdown",
   "id": "b842632070ed4122",
   "metadata": {},
   "source": [
    "\n",
    "Talk about how we have very few, but very sensitive blue sensors, a bit more green, fairly sensitive and a lot of red sensors. \n",
    "We have 3 types of cones, each sensitive to a different wavelength. The brain then interprets the signal from the cones to give us the color we see.\n",
    "Red color has the highest wavelength, then green, then blue. Blue color has a very high frequency, hence a much lower wavelength.\n",
    "\n",
    "Talk about rodes for low light 1 color and cones for medium to high lightning for colors.\n",
    "\n",
    "\n",
    "\n"
   ]
  },
  {
   "cell_type": "markdown",
   "id": "c1b5dea30e06aeea",
   "metadata": {},
   "source": [
    "### (b) How does the human eye sense colors? What are the main qualities of achromatic and chromatic light?"
   ]
  },
  {
   "cell_type": "markdown",
   "id": "bba7bb054e5905ed",
   "metadata": {},
   "source": [
    "\n",
    "(Achromatic light)  \n",
    "\n",
    "Rods are : \n",
    "\n",
    "- very sensitive to light intensity\n",
    "- achromatic (one color)\n",
    "\n",
    "they are used for peripheral vision and they have slow response.\n",
    "\n",
    "This means that in dark areas, to be able to see anything, the brains / they eyes \"focuses\" on rods at the expense of color distinction.\n",
    "i.e. It's hard to distinguish colors in the dark because to be able to see we have to raise the sensitivity towards light but the what allows us to do that (the rods) are not sensitive to color.\n",
    "\n",
    "\n",
    "Talk about achromatic and chromatic light"
   ]
  },
  {
   "cell_type": "markdown",
   "id": "59b2a880ed146b64",
   "metadata": {},
   "source": [
    "---"
   ]
  },
  {
   "cell_type": "markdown",
   "id": "5d3569dabc52a925",
   "metadata": {},
   "source": [
    "## Exercise 2 : \n",
    "*(1 point)*"
   ]
  },
  {
   "cell_type": "markdown",
   "id": "76be6696751d59ae",
   "metadata": {},
   "source": [
    "### (a) What is the NTSC-YIQ color space? What is the main domain of application for this color system? What is its advantage against RGB from an application point of view ?"
   ]
  },
  {
   "cell_type": "markdown",
   "id": "43ba81ca2c52f049",
   "metadata": {},
   "source": [
    "--- Write your answer here ---"
   ]
  },
  {
   "cell_type": "markdown",
   "id": "e7aa4048da818837",
   "metadata": {},
   "source": [
    "### (b) Write a function that takes an RGB image and converts it to the NTSC-YIQ format.\n",
    "Pay attention to the image dynamic range (is it from 0 to 1 or from 0 to 255). Convert\n",
    "the RGB image *mnms.jpg* to the NTSC-YIQ using your function. Display each three\n",
    "components as individual gray images. Explain the meaning of each component. \n",
    "\n",
    "*NB : If you use the matplotlib library to display grayscale images, pay attention to the\n",
    "color maps (cmap) you are using or you might end up with strange coloured results.*"
   ]
  },
  {
   "cell_type": "code",
   "execution_count": 2,
   "id": "272241503be9061c",
   "metadata": {
    "scrolled": true,
    "ExecuteTime": {
     "end_time": "2023-10-20T14:27:11.975148078Z",
     "start_time": "2023-10-20T14:27:11.920863005Z"
    }
   },
   "outputs": [
    {
     "data": {
      "text/plain": "[<matplotlib.lines.Line2D at 0x7fb89bce6f50>]"
     },
     "execution_count": 2,
     "metadata": {},
     "output_type": "execute_result"
    },
    {
     "data": {
      "text/plain": "<Figure size 640x480 with 1 Axes>",
      "image/png": "[encoded data removed]"
     },
     "metadata": {},
     "output_type": "display_data"
    }
   ],
   "source": [
    "import matplotlib.pyplot as plt\n",
    "import numpy as np\n",
    "\n",
    "plt.plot(np.arange(1, 100))\n",
    "\n"
   ]
  },
  {
   "cell_type": "markdown",
   "id": "9b1386535f6601db",
   "metadata": {},
   "source": [
    "--- Write your answer here ---"
   ]
  },
  {
   "cell_type": "markdown",
   "id": "bf64072420a2badb",
   "metadata": {},
   "source": [
    "### (c) Apply python function *skimage.color.rgb2yiq* to the RGB image *mnms.jpg*. Compare the obtained result with the result of your function and explain the visual differences, if any."
   ]
  },
  {
   "cell_type": "code",
   "execution_count": null,
   "id": "c2d131e8c312191",
   "metadata": {
    "scrolled": true,
    "ExecuteTime": {
     "end_time": "2023-10-20T13:00:40.019139966Z",
     "start_time": "2023-10-20T13:00:39.905346972Z"
    }
   },
   "outputs": [],
   "source": []
  },
  {
   "cell_type": "markdown",
   "id": "ec4dfb64133c8b9a",
   "metadata": {},
   "source": [
    "--- Write your answer here ---"
   ]
  },
  {
   "cell_type": "markdown",
   "id": "a68b1b19961e80d0",
   "metadata": {},
   "source": [
    "### (d) Use the python function *skimage.color.yiq2rgb* to convert the image back to RGB. Compute the MSE between the result image and the original one. Is this color system transformation lossless or lossy?"
   ]
  },
  {
   "cell_type": "code",
   "execution_count": null,
   "id": "9c0bcd111b0faf96",
   "metadata": {
    "ExecuteTime": {
     "end_time": "2023-10-20T13:00:40.053105164Z",
     "start_time": "2023-10-20T13:00:39.929463571Z"
    }
   },
   "outputs": [],
   "source": []
  },
  {
   "cell_type": "markdown",
   "id": "b8b9d0b95a1d6c93",
   "metadata": {},
   "source": [
    "--- Write your answer here ---"
   ]
  },
  {
   "cell_type": "markdown",
   "id": "a593e5fa28baaaa1",
   "metadata": {},
   "source": [
    "---"
   ]
  },
  {
   "cell_type": "markdown",
   "id": "ab104241517f6c88",
   "metadata": {},
   "source": [
    "## Exercise 3 :\n",
    "*(1 point)*"
   ]
  },
  {
   "cell_type": "markdown",
   "id": "8cf7faf5fa510692",
   "metadata": {},
   "source": [
    "### Redo Exercise 3 **(a)–(d)** for the YCbCr color system. "
   ]
  },
  {
   "cell_type": "markdown",
   "id": "fa98b7f395c22621",
   "metadata": {},
   "source": [
    "### (a) What is the YCbCr color space? What is the main domain of application for this\n",
    "color system? What is its advantage against RGB from an application point of view ?"
   ]
  },
  {
   "cell_type": "markdown",
   "id": "ae6e45e1506956f4",
   "metadata": {},
   "source": [
    "--- Write your answer here ---"
   ]
  },
  {
   "cell_type": "markdown",
   "id": "85efc56f8ec3f28",
   "metadata": {},
   "source": [
    "### (b) Write a function that takes an RGB image and converts it to the YCbCr format. Pay attention to the image dynamic range (is it from 0 to 1 or from 0 to 255). Convert the RGB image *mnms.jpg* to the YCbCr using your function. Display each three components as individual gray images. Explain the meaning of each component."
   ]
  },
  {
   "cell_type": "code",
   "execution_count": null,
   "id": "888dc2d1198edb71",
   "metadata": {
    "scrolled": true,
    "ExecuteTime": {
     "end_time": "2023-10-20T13:00:40.053874825Z",
     "start_time": "2023-10-20T13:00:39.936798137Z"
    }
   },
   "outputs": [],
   "source": []
  },
  {
   "cell_type": "markdown",
   "id": "d0c1b9f45e05bc02",
   "metadata": {},
   "source": [
    "--- Write your answer here ---"
   ]
  },
  {
   "cell_type": "markdown",
   "id": "7fc9d8964d00ff46",
   "metadata": {},
   "source": [
    "### (c) Use *skimage.color.rgb2ycbcr* to convert the RGB image *mnms.jpg* to the YCbCr format. Compare the obtained result with the result of your function and explain the visual differences, if any."
   ]
  },
  {
   "cell_type": "code",
   "execution_count": null,
   "id": "65b49d850fce483d",
   "metadata": {
    "scrolled": true,
    "ExecuteTime": {
     "end_time": "2023-10-20T13:00:40.054491624Z",
     "start_time": "2023-10-20T13:00:39.944151964Z"
    }
   },
   "outputs": [],
   "source": []
  },
  {
   "cell_type": "markdown",
   "id": "bd65f136d46ed430",
   "metadata": {},
   "source": [
    "--- Write your answer here ---"
   ]
  },
  {
   "cell_type": "markdown",
   "id": "ea5b254f03c509dd",
   "metadata": {},
   "source": [
    "### (d) Use *skimage.color.ycbcr2rgb* to convert the image back to RGB. Compute the MSE between the result image and the original one. Is this color system transformation lossless or lossy?"
   ]
  },
  {
   "cell_type": "code",
   "execution_count": null,
   "id": "8a697a582a14f04",
   "metadata": {
    "ExecuteTime": {
     "end_time": "2023-10-20T13:00:40.055426246Z",
     "start_time": "2023-10-20T13:00:39.969175061Z"
    }
   },
   "outputs": [],
   "source": []
  },
  {
   "cell_type": "markdown",
   "id": "fd6e3f2adfc41b56",
   "metadata": {},
   "source": [
    "--- Write your answer here ---"
   ]
  },
  {
   "cell_type": "markdown",
   "id": "de061f1c9bfa3f60",
   "metadata": {},
   "source": [
    "---"
   ]
  },
  {
   "cell_type": "markdown",
   "id": "cfaf91f54d16081b",
   "metadata": {},
   "source": [
    "## Exercise 4 : \n",
    "\n",
    "*(1 point)*"
   ]
  },
  {
   "cell_type": "markdown",
   "id": "33e762f06ca41c82",
   "metadata": {},
   "source": [
    "Redo Exercise 3 **(a)**, **(b)** and **(d)** for the CMY color system.\n",
    "\n",
    "*NB: You will need however to write your own function cmy2rgb for part (d).*"
   ]
  },
  {
   "cell_type": "markdown",
   "id": "912c593bb10a1e34",
   "metadata": {},
   "source": [
    "### (a) What is the CMY color space? What is the main domain of application for this\n",
    "color system? What is its advantage against RGB from an application point of view ?"
   ]
  },
  {
   "cell_type": "markdown",
   "id": "1224621e9860755",
   "metadata": {},
   "source": [
    "--- Write your answer here ---"
   ]
  },
  {
   "cell_type": "markdown",
   "id": "ca24c0c29551857b",
   "metadata": {},
   "source": [
    "### (b) Write a function that takes an RGB image and converts it to the CMY format. Pay attention to the image dynamic range (is it from 0 to 1 or from 0 to 255). Convert the RGB image *mnms.jpg* to the CMY using your function. Display each three components as individual gray images. Explain the meaning of each component."
   ]
  },
  {
   "cell_type": "code",
   "execution_count": null,
   "id": "724fc4d0541a0900",
   "metadata": {
    "ExecuteTime": {
     "end_time": "2023-10-20T13:00:40.056024410Z",
     "start_time": "2023-10-20T13:00:39.976288504Z"
    }
   },
   "outputs": [],
   "source": []
  },
  {
   "cell_type": "markdown",
   "id": "a24a2300d64174a4",
   "metadata": {},
   "source": [
    "--- Write your answer here ---"
   ]
  },
  {
   "cell_type": "markdown",
   "id": "2b0b6605c52b6457",
   "metadata": {},
   "source": [
    "### (d) Write a function that takes a CMY image and converts it to the RGB format. Pay attention to the image dynamic range (is it from 0 to 1 or from 0 to 255). Convert the CMY image *mnms.jpg* to the RGB using your function. Display each three components as individual gray images. Explain the meaning of each component."
   ]
  },
  {
   "cell_type": "code",
   "execution_count": null,
   "id": "5f314c9fef7f7cfd",
   "metadata": {
    "ExecuteTime": {
     "end_time": "2023-10-20T13:00:40.056580641Z",
     "start_time": "2023-10-20T13:00:39.988768283Z"
    }
   },
   "outputs": [],
   "source": []
  },
  {
   "cell_type": "markdown",
   "id": "79b3f4babca4639c",
   "metadata": {},
   "source": [
    "--- Write your answer here ---"
   ]
  },
  {
   "cell_type": "markdown",
   "id": "5530b7191f2d7c9",
   "metadata": {},
   "source": [
    "---"
   ]
  },
  {
   "cell_type": "markdown",
   "id": "79e7bcca7421f483",
   "metadata": {},
   "source": [
    "## Exercise 5 : \n",
    "\n",
    "*(1 point)*"
   ]
  },
  {
   "cell_type": "markdown",
   "id": "551c38dd9cb5af3b",
   "metadata": {},
   "source": [
    "### (a) Explain the difference between the CMY and CMYK color spaces."
   ]
  },
  {
   "cell_type": "markdown",
   "id": "6c69b138ed1dfdd9",
   "metadata": {},
   "source": [
    "--- Write your answer here ---"
   ]
  },
  {
   "cell_type": "markdown",
   "id": "2d88f5471dc7ac2d",
   "metadata": {},
   "source": [
    "Redo Exercise 4 **(b)** and **(d)** for the CMYK color space."
   ]
  },
  {
   "cell_type": "markdown",
   "id": "802262d088af5740",
   "metadata": {},
   "source": [
    "### (b) Write a function that takes an RGB image and converts it to the CMYK format. Pay attention to the image dynamic range (is it from 0 to 1 or from 0 to 255). Convert the RGB image *mnms.jpg* to the CMYK using your function. Display each four components as individual gray images. Explain the meaning of each component."
   ]
  },
  {
   "cell_type": "code",
   "execution_count": null,
   "id": "9d8134a42e6938c2",
   "metadata": {
    "ExecuteTime": {
     "end_time": "2023-10-20T13:00:40.057131003Z",
     "start_time": "2023-10-20T13:00:39.993132262Z"
    }
   },
   "outputs": [],
   "source": []
  },
  {
   "cell_type": "markdown",
   "id": "3f4ec4590da2d5bc",
   "metadata": {},
   "source": [
    "--- Write your answer here ---"
   ]
  },
  {
   "cell_type": "markdown",
   "id": "996d99b64468da6a",
   "metadata": {},
   "source": [
    "### (d) Write a function that takes a CMYK image and converts it to the RGB format. Pay attention to the image dynamic range (is it from 0 to 1 or from 0 to 255). Convert the CMYK image *mnms.jpg* to the RGB using your function. Display each three components as individual gray images. Explain the meaning of each component."
   ]
  },
  {
   "cell_type": "code",
   "execution_count": null,
   "id": "76b93267af965e62",
   "metadata": {
    "ExecuteTime": {
     "end_time": "2023-10-20T13:00:40.057907540Z",
     "start_time": "2023-10-20T13:00:40.033212667Z"
    }
   },
   "outputs": [],
   "source": []
  },
  {
   "cell_type": "markdown",
   "id": "87877a1c21e423dd",
   "metadata": {},
   "source": [
    "--- Write your answer here ---"
   ]
  },
  {
   "cell_type": "markdown",
   "id": "9d4e383e9a08a0e7",
   "metadata": {},
   "source": [
    "---"
   ]
  },
  {
   "cell_type": "markdown",
   "id": "cfb528893a70becc",
   "metadata": {
    "collapsed": false
   },
   "source": [
    "## Exercise 6 :\n",
    "\n",
    "(1 point)"
   ]
  },
  {
   "cell_type": "markdown",
   "id": "6177c38442a4aa53",
   "metadata": {
    "collapsed": false
   },
   "source": [
    "### (a) Outline the primary focusing disorders in the human visual system (HVS). Detail current solutions for each. Organize the information in a schematic format.\n",
    "\n",
    "*Hint: emmetropia, myopia, hypermetropia, astigmatism*"
   ]
  },
  {
   "cell_type": "markdown",
   "id": "837911d4c3119dfa",
   "metadata": {
    "collapsed": false
   },
   "source": [
    "--- Write your answer here ---"
   ]
  },
  {
   "cell_type": "markdown",
   "id": "8f69af591358e330",
   "metadata": {},
   "source": [
    "### (b) Compare focusing mechanisms in the human visual system (HVS) and contemporary cameras. Highlight the key differences."
   ]
  },
  {
   "cell_type": "markdown",
   "id": "77ff9e5655b5113c",
   "metadata": {},
   "source": [
    "--- Write your answer here ---"
   ]
  }
 ],
 "metadata": {
  "kernelspec": {
   "display_name": "Python 3 (ipykernel)",
   "language": "python",
   "name": "python3"
  },
  "language_info": {
   "codemirror_mode": {
    "name": "ipython",
    "version": 3
   },
   "file_extension": ".py",
   "mimetype": "text/x-python",
   "name": "python",
   "nbconvert_exporter": "python",
   "pygments_lexer": "ipython3",
   "version": "3.10.13"
  }
 },
 "nbformat": 4,
 "nbformat_minor": 5
}
