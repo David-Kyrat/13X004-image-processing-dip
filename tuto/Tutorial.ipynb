{
 "cells": [
  {
   "cell_type": "markdown",
   "metadata": {
    "pycharm": {
     "name": "#%% md\n"
    }
   },
   "source": [
    "# Tutorial: image processing tools"
   ]
  },
  {
   "cell_type": "markdown",
   "metadata": {
    "pycharm": {
     "name": "#%% md\n"
    }
   },
   "source": [
    "## Agenda\n",
    "\n",
    "1. Virtual envirnoments\n",
    "2. Package management: pip, conda\n",
    "3. Jupyter notebook\n",
    "4. Numpy\n",
    "5. Matplotlib\n",
    "6. Skimage\n",
    "7. OpenCV"
   ]
  },
  {
   "cell_type": "markdown",
   "metadata": {
    "pycharm": {
     "name": "#%% md\n"
    }
   },
   "source": [
    "## 1. Virtual envirnoments"
   ]
  },
  {
   "cell_type": "markdown",
   "metadata": {
    "pycharm": {
     "name": "#%% md\n"
    }
   },
   "source": [
    "Virtual environment is a directory tree which contains Python executable files and other files which indicate that it is a virtual environment. Common installation tools such as setuptools and pip work as expected with virtual environments. Each environment can use different versions of package dependencies and Python.\n",
    "\n",
    "**Note**: we use Python3 in this course\n",
    "\n",
    "Awesome article on virtual environments: [article](https://realpython.com/python-virtual-environments-a-primer/)"
   ]
  },
  {
   "cell_type": "markdown",
   "metadata": {
    "pycharm": {
     "name": "#%% md\n"
    }
   },
   "source": [
    "### 1.1 Create virtual enviroment in terminal"
   ]
  },
  {
   "cell_type": "markdown",
   "metadata": {
    "pycharm": {
     "name": "#%% md\n"
    }
   },
   "source": [
    "Go to your project folder\n",
    "\n",
    "Run `python -m venv venv_name` on Windows. Python3 should be installed\n",
    "\n",
    "Run: `python3 -m venv venv_name` on Linux. Note that you will need to install `python3.8-ven`, by running `sudo apt install python3.8-venv`\n",
    "\n",
    "Run: `python3 -m venv venv_name` on Mac.\n",
    "\n",
    "**Note**: do not use spaces in virtual environment name\n",
    "\n",
    "**Note**: your preferred IDE might have an option to install virtual environment"
   ]
  },
  {
   "cell_type": "markdown",
   "metadata": {
    "pycharm": {
     "name": "#%% md\n"
    }
   },
   "source": [
    "### 1.2 Activate virtual environment"
   ]
  },
  {
   "cell_type": "markdown",
   "metadata": {
    "pycharm": {
     "name": "#%% md\n"
    }
   },
   "source": [
    "In your project folder\n",
    "\n",
    "Run `venv_name\\Scripts\\activate` on Windows\n",
    "\n",
    "Run `source venv/bin/activate` on Linux/Mac\n",
    "\n",
    "**Note**: your preferred IDE might have an option to activate virtual environment"
   ]
  },
  {
   "cell_type": "markdown",
   "metadata": {
    "pycharm": {
     "name": "#%% md\n"
    }
   },
   "source": [
    "## 2. Package management"
   ]
  },
  {
   "cell_type": "markdown",
   "metadata": {
    "pycharm": {
     "name": "#%% md\n"
    }
   },
   "source": [
    "[pip](https://pypi.org/project/pip) is the package installer for Python. You can use pip to install packages from the Python Package Index and other indexes."
   ]
  },
  {
   "cell_type": "markdown",
   "metadata": {
    "pycharm": {
     "name": "#%% md\n"
    }
   },
   "source": [
    "### 2.1 Install package using pip"
   ]
  },
  {
   "cell_type": "markdown",
   "metadata": {
    "pycharm": {
     "name": "#%% md\n"
    }
   },
   "source": [
    "<span style=\"color:red\">**When installing package always make sure, that you have activated the virtual environment**</span>\n",
    "\n",
    "To install package in terminal run: `pip install <package>`\n",
    "\n",
    "For example install [numpy](https://numpy.org)\n",
    "\n",
    "Without version specification: `pip install numpy`\n",
    "\n",
    "Specify version: `pip install numpy==1.19.5`"
   ]
  },
  {
   "cell_type": "code",
   "execution_count": 1,
   "metadata": {
    "pycharm": {
     "name": "#%%\n"
    }
   },
   "outputs": [
    {
     "name": "stdout",
     "output_type": "stream",
     "text": [
      "Requirement already satisfied: numpy in /home/kinakh/anaconda3/lib/python3.7/site-packages (1.21.5)\r\n"
     ]
    }
   ],
   "source": [
    "# Install in Jupyter notebook\n",
    "!pip install numpy"
   ]
  },
  {
   "cell_type": "code",
   "execution_count": null,
   "metadata": {
    "pycharm": {
     "is_executing": true,
     "name": "#%%\n"
    }
   },
   "outputs": [],
   "source": [
    "!pip install numpy==1.19.5"
   ]
  },
  {
   "cell_type": "markdown",
   "metadata": {
    "pycharm": {
     "name": "#%% md\n"
    }
   },
   "source": [
    "### 2.2 Uninstall package using pip"
   ]
  },
  {
   "cell_type": "markdown",
   "metadata": {
    "pycharm": {
     "name": "#%% md\n"
    }
   },
   "source": [
    "To uninstall package in terminal run `pip uninstall <package>`"
   ]
  },
  {
   "cell_type": "code",
   "execution_count": null,
   "metadata": {
    "pycharm": {
     "is_executing": true,
     "name": "#%%\n"
    }
   },
   "outputs": [],
   "source": [
    "!pip uninstall numpy --yes\n",
    "# Note: specify --yes flag in Jupyter notebook, when uninstalling"
   ]
  },
  {
   "cell_type": "markdown",
   "metadata": {
    "pycharm": {
     "name": "#%% md\n"
    }
   },
   "source": [
    "## 3. Jupyter notebook"
   ]
  },
  {
   "cell_type": "markdown",
   "metadata": {
    "pycharm": {
     "name": "#%% md\n"
    }
   },
   "source": [
    "Awesome jupyter notebook [guide](https://www.dataquest.io/blog/jupyter-notebook-tutorial/)"
   ]
  },
  {
   "cell_type": "markdown",
   "metadata": {
    "pycharm": {
     "name": "#%% md\n"
    }
   },
   "source": [
    "### 3.1 Install jupyter notebook"
   ]
  },
  {
   "cell_type": "markdown",
   "metadata": {
    "pycharm": {
     "name": "#%% md\n"
    }
   },
   "source": [
    "To install jupyter run in terminal `pip install jupyter`\n",
    "\n",
    "**Note**: your preferred IDE might have an option to install jupyter"
   ]
  },
  {
   "cell_type": "markdown",
   "metadata": {
    "pycharm": {
     "name": "#%% md\n"
    }
   },
   "source": [
    "### 3.2 Run jupyter"
   ]
  },
  {
   "cell_type": "markdown",
   "metadata": {
    "pycharm": {
     "name": "#%% md\n"
    }
   },
   "source": [
    "To start jupyter run in terminal `jupyter notebook`\n",
    "\n",
    "**Note**: your preferred IDE might have an option to run environment"
   ]
  },
  {
   "cell_type": "markdown",
   "metadata": {
    "pycharm": {
     "name": "#%% md\n"
    }
   },
   "source": [
    "### 3.3 Cell types in jupyter notebook"
   ]
  },
  {
   "cell_type": "markdown",
   "metadata": {
    "pycharm": {
     "name": "#%% md\n"
    }
   },
   "source": [
    "There are two types of cells in jupyter notebook: **code** cells and **markdown** cells.\n",
    "\n",
    "- Code cell contains code to be executed in the kernel. When the code is run, the notebook displays the output below the code cell that generated it\n",
    "\n",
    "- Markdown cell contains text formatted using Markdown and displays its output in-place when the Markdown cell is run\n",
    "\n",
    "To change active cell from **code** cell to **markdown** cell, press `Ctrl + m` on Windows/Linux, `Command + m` on Mac.\n",
    "\n",
    "To change active cell from **markdown** cell to **code** cell, press `Ctrl + y` on Windows/Linux, `Command + y` on Mac."
   ]
  },
  {
   "cell_type": "markdown",
   "metadata": {
    "pycharm": {
     "name": "#%% md\n"
    }
   },
   "source": [
    "### 3.4 Keyboard shortcuts"
   ]
  },
  {
   "cell_type": "markdown",
   "metadata": {
    "pycharm": {
     "name": "#%% md\n"
    }
   },
   "source": [
    "To check keyboard shortcuts make the cell inactive by pressing `Esc`, then press `H`."
   ]
  },
  {
   "cell_type": "markdown",
   "metadata": {
    "pycharm": {
     "name": "#%% md\n"
    }
   },
   "source": [
    "### 3.5 Run cell"
   ]
  },
  {
   "cell_type": "markdown",
   "metadata": {
    "pycharm": {
     "name": "#%% md\n"
    }
   },
   "source": [
    "To run cell press `Ctrl + Enter` on Windows/Linux, `Command + Enter` on Mac."
   ]
  },
  {
   "cell_type": "markdown",
   "metadata": {
    "pycharm": {
     "name": "#%% md\n"
    }
   },
   "source": [
    "### 3.6 Markdown"
   ]
  },
  {
   "cell_type": "markdown",
   "metadata": {
    "pycharm": {
     "name": "#%% md\n"
    }
   },
   "source": [
    "    # Heading 1\n",
    "    ## Heading 2\n",
    "    ### Heading 3\n",
    "    ...\n",
    "    \n",
    "    **bold** __bold__\n",
    "    *italic* _italic_\n",
    "    \n",
    "    [Hyperlink](https://www.example.com)\n",
    "    \n",
    "    Inline command: `python main.py a b c d`\n",
    "    \n",
    "    Inline code:\n",
    "    ```\n",
    "    def food(a, b, c):\n",
    "        return a + b + c\n",
    "    ```\n",
    "    \n",
    "    Mathematical formula: $x^n + y^n = z^n$\n",
    "    Latex: $$x^n + y^n = z^n$$"
   ]
  },
  {
   "cell_type": "markdown",
   "metadata": {
    "pycharm": {
     "name": "#%% md\n"
    }
   },
   "source": [
    "# Heading 1\n",
    "## Heading 2\n",
    "### Heading 3\n",
    "\n",
    "\n",
    "**bold** __bold__\n",
    "*italic* _italic_\n",
    "    \n",
    "[Hyperlink](https://www.example.com)\n",
    "    \n",
    "Inline command: `python main.py a b c d`\n",
    "    \n",
    "Inline code:\n",
    "```\n",
    "def food(a, b, c):\n",
    "    return a + b + c\n",
    "``` \n",
    "\n",
    "\n",
    "Mathematical formula: $x^n + y^n = z^n$\n",
    "\n",
    "Latex: $$x^n + y^n = z^n$$"
   ]
  },
  {
   "cell_type": "markdown",
   "metadata": {
    "pycharm": {
     "name": "#%% md\n"
    }
   },
   "source": [
    "### 3.7 Jupyter magic\n",
    "\n",
    "More jupyter magic commands: [link](https://ipython.readthedocs.io/en/stable/interactive/magics.html)"
   ]
  },
  {
   "cell_type": "code",
   "execution_count": null,
   "metadata": {
    "pycharm": {
     "is_executing": true,
     "name": "#%%\n"
    }
   },
   "outputs": [],
   "source": [
    "# you can measure the execution time via this command\n",
    "%timeit -n 1000 2 + 2"
   ]
  },
  {
   "cell_type": "markdown",
   "metadata": {
    "pycharm": {
     "name": "#%% md\n"
    }
   },
   "source": [
    "## 4. Numpy"
   ]
  },
  {
   "cell_type": "markdown",
   "metadata": {
    "pycharm": {
     "name": "#%% md\n"
    }
   },
   "source": [
    "[NumPy](https://numpy.org/) is a library for the Python programming language, adding support for large, multi-dimensional arrays and matrices, along with a large collection of high-level mathematical functions to operate on these arrays. \n",
    "\n",
    "More tutorials: [link](https://numpy.org/learn/)"
   ]
  },
  {
   "cell_type": "markdown",
   "metadata": {
    "pycharm": {
     "name": "#%% md\n"
    }
   },
   "source": [
    "### 4.1 Install numpy"
   ]
  },
  {
   "cell_type": "code",
   "execution_count": null,
   "metadata": {
    "pycharm": {
     "is_executing": true,
     "name": "#%%\n"
    }
   },
   "outputs": [],
   "source": [
    "!pip install numpy"
   ]
  },
  {
   "cell_type": "markdown",
   "metadata": {
    "pycharm": {
     "name": "#%% md\n"
    }
   },
   "source": [
    "### 4.2 Import numpy"
   ]
  },
  {
   "cell_type": "code",
   "execution_count": null,
   "metadata": {
    "pycharm": {
     "is_executing": true,
     "name": "#%%\n"
    }
   },
   "outputs": [],
   "source": [
    "import numpy as np"
   ]
  },
  {
   "cell_type": "markdown",
   "metadata": {
    "pycharm": {
     "name": "#%% md\n"
    }
   },
   "source": [
    "### 4.3 Array creation/initialization"
   ]
  },
  {
   "cell_type": "code",
   "execution_count": null,
   "metadata": {
    "pycharm": {
     "is_executing": true,
     "name": "#%%\n"
    }
   },
   "outputs": [],
   "source": [
    "a = np.array([0, 1, 2, 3]) # convert python list to numpy array\n",
    "\n",
    "print('Convert python list to numpy array')\n",
    "print(a)\n",
    "print(type(a))"
   ]
  },
  {
   "cell_type": "code",
   "execution_count": null,
   "metadata": {
    "pycharm": {
     "is_executing": true,
     "name": "#%%\n"
    }
   },
   "outputs": [],
   "source": [
    "a = np.array(range(4))  # convert generator to numpy array\n",
    "\n",
    "print('Convert python generator to numpy array')\n",
    "print(a)\n",
    "print(type(a))"
   ]
  },
  {
   "cell_type": "code",
   "execution_count": null,
   "metadata": {
    "pycharm": {
     "is_executing": true,
     "name": "#%%\n"
    }
   },
   "outputs": [],
   "source": [
    "a = np.array((0, 1, 2, 3))  # convert tuple to numpy array\n",
    "\n",
    "print('Convert python tuple to numpy array')\n",
    "print(a)\n",
    "print(type(a))"
   ]
  },
  {
   "cell_type": "markdown",
   "metadata": {
    "pycharm": {
     "name": "#%% md\n"
    }
   },
   "source": [
    "### 4.4 Arithmetic operations with numpy array\n",
    "\n",
    "If you want to apply arithmetic operation to array, you do not need to iterate over it"
   ]
  },
  {
   "cell_type": "code",
   "execution_count": null,
   "metadata": {
    "pycharm": {
     "is_executing": true,
     "name": "#%%\n"
    }
   },
   "outputs": [],
   "source": [
    "a = np.array(range(15))\n",
    "\n",
    "# BAD\n",
    "a_squared = np.array([e ** 2 for e in a])\n",
    "print(a_squared)\n",
    "\n",
    "# GOOD\n",
    "a_squared = a ** 2\n",
    "print(a_squared)\n",
    "\n",
    "# timing\n",
    "print('\\n\\n')\n",
    "print('Time with loop: ')\n",
    "%timeit -n 1000 np.array([e ** 2 for e in a])  # microseconds\n",
    "\n",
    "print('Time with vectorization')\n",
    "%timeit -n 1000 a ** 2                         # nanoseconds"
   ]
  },
  {
   "cell_type": "code",
   "execution_count": null,
   "metadata": {
    "pycharm": {
     "is_executing": true,
     "name": "#%%\n"
    }
   },
   "outputs": [],
   "source": [
    "# Scale array\n",
    "a_scale_1 = a * 5\n",
    "a_scale_2 = a / 0.5\n",
    "\n",
    "print('Scaling')\n",
    "print(a_scale_1)\n",
    "print(a_scale_2)"
   ]
  },
  {
   "cell_type": "code",
   "execution_count": null,
   "metadata": {
    "pycharm": {
     "is_executing": true,
     "name": "#%%\n"
    }
   },
   "outputs": [],
   "source": [
    "# Add/subtract number to each element of array\n",
    "a_add = a + 5\n",
    "a_sub = a - 5\n",
    "\n",
    "print('Add')\n",
    "print(a_add)\n",
    "\n",
    "print('Subtract')\n",
    "print(a_sub)"
   ]
  },
  {
   "cell_type": "markdown",
   "metadata": {
    "pycharm": {
     "name": "#%% md\n"
    }
   },
   "source": [
    "### 4.5 Array on array operations"
   ]
  },
  {
   "cell_type": "code",
   "execution_count": null,
   "metadata": {
    "pycharm": {
     "is_executing": true,
     "name": "#%%\n"
    }
   },
   "outputs": [],
   "source": [
    "# Add/subtract/multiply two arrays of the same size\n",
    "a = np.array(range(5))       # [0, 1, 2, 3, 4]\n",
    "b = np.array(range(5, 10))   # [5, 6, 7, 8, 9]\n",
    "c = a + b\n",
    "\n",
    "print('Add')\n",
    "print(c)\n",
    "\n",
    "c = b - a\n",
    "print('Subtract')\n",
    "print(c)\n",
    "\n",
    "c = a * b\n",
    "print('Multiply')\n",
    "print(c)"
   ]
  },
  {
   "cell_type": "markdown",
   "metadata": {
    "pycharm": {
     "name": "#%% md\n"
    }
   },
   "source": [
    "### 4.6 Broadcasting\n",
    "\n",
    "Broadcasting is a very powerful method that enables to compute basic operations between arrays of different dimensions by \"copying the smallest one along the necessary dimensions\" :"
   ]
  },
  {
   "cell_type": "code",
   "execution_count": null,
   "metadata": {
    "pycharm": {
     "is_executing": true,
     "name": "#%%\n"
    }
   },
   "outputs": [],
   "source": [
    "# Operations on arrays with different sizes\n",
    "\n",
    "a = np.array([[1, 2, 3, 4, 5],\n",
    "              [6, 7, 8, 9, 10]])\n",
    "b = np.array([0, 1, 2, 3, 4])\n",
    "\n",
    "print(f'a shape: {a.shape}')\n",
    "print(f'b shape: {b.shape}')\n",
    "\n",
    "print('Add')\n",
    "c = a + b\n",
    "print(c)\n",
    "\n",
    "print('Multiply')\n",
    "c = a * b\n",
    "print(c)\n",
    "\n",
    "# Other way works as well\n",
    "print('Multiply')\n",
    "c = b * a\n",
    "print(c)"
   ]
  },
  {
   "cell_type": "code",
   "execution_count": null,
   "metadata": {
    "pycharm": {
     "is_executing": true,
     "name": "#%%\n"
    }
   },
   "outputs": [],
   "source": [
    "a = np.random.randn(10,5,3)\n",
    "b = np.random.randn(5,3)\n",
    "\n",
    "c = a+b\n",
    "\n",
    "print(c.shape)"
   ]
  },
  {
   "cell_type": "code",
   "execution_count": null,
   "metadata": {
    "pycharm": {
     "is_executing": true,
     "name": "#%%\n"
    }
   },
   "outputs": [],
   "source": [
    "# NOTE: when number of dimensions is the same and at least one of them is different, broadcasting is not possible\n",
    "a = np.random.randn(10,5,3)\n",
    "b = np.random.randn(15,5,3)\n",
    "\n",
    "c = a+b\n",
    "\n",
    "print(c.shape)"
   ]
  },
  {
   "cell_type": "code",
   "execution_count": null,
   "metadata": {
    "pycharm": {
     "is_executing": true,
     "name": "#%%\n"
    }
   },
   "outputs": [],
   "source": [
    "# !!!!!! WARNING !!!!!!\n",
    "# Broadcasting works from right to left when trying to match dimensions\n",
    "\n",
    "batch_of_images = np.random.randn(10, 50, 50, 3)\n",
    "batch_of_means = np.random.randn(10)\n",
    "\n",
    "result = batch_of_images - batch_of_means"
   ]
  },
  {
   "cell_type": "code",
   "execution_count": null,
   "metadata": {
    "pycharm": {
     "is_executing": true,
     "name": "#%%\n"
    }
   },
   "outputs": [],
   "source": [
    "# !!!!!! WARNING !!!!!!\n",
    "# Broadcasting works from right to left when trying to match dimensions\n",
    "\n",
    "batch_of_images = np.random.randn(10, 50, 50, 3)\n",
    "batch_of_means = np.random.randn(3)\n",
    "\n",
    "result = batch_of_images - batch_of_means"
   ]
  },
  {
   "cell_type": "markdown",
   "metadata": {
    "pycharm": {
     "name": "#%% md\n"
    }
   },
   "source": [
    "### 4.7 Slicing"
   ]
  },
  {
   "cell_type": "code",
   "execution_count": null,
   "metadata": {
    "pycharm": {
     "is_executing": true,
     "name": "#%%\n"
    }
   },
   "outputs": [],
   "source": [
    "from PIL import Image\n",
    "# read image\n",
    "im = Image.open('images/Lenna.png')\n",
    "\n",
    "print(type(im))\n",
    "im"
   ]
  },
  {
   "cell_type": "markdown",
   "metadata": {
    "pycharm": {
     "name": "#%% md\n"
    }
   },
   "source": [
    "#### 4.7.1 Crop image"
   ]
  },
  {
   "cell_type": "code",
   "execution_count": null,
   "metadata": {
    "pycharm": {
     "is_executing": true,
     "name": "#%%\n"
    }
   },
   "outputs": [],
   "source": [
    "# convert PIL.Image to numpy ndarray\n",
    "im_np = np.array(im)\n",
    "print(f'Shape: {im_np.shape}')\n",
    "\n",
    "# Note: in numpy dimensions are in the following order: height, width, channels"
   ]
  },
  {
   "cell_type": "code",
   "execution_count": null,
   "metadata": {
    "pycharm": {
     "is_executing": true,
     "name": "#%%\n"
    }
   },
   "outputs": [],
   "source": [
    "# Crop image\n",
    "im_crop = im_np[50:500, 50:500]\n",
    "Image.fromarray(im_crop)"
   ]
  },
  {
   "cell_type": "markdown",
   "metadata": {
    "pycharm": {
     "name": "#%% md\n"
    }
   },
   "source": [
    "#### 4.7.2 Flip image"
   ]
  },
  {
   "cell_type": "code",
   "execution_count": null,
   "metadata": {
    "pycharm": {
     "is_executing": true,
     "name": "#%%\n"
    }
   },
   "outputs": [],
   "source": [
    "# Flip image using slicing\n",
    "im_flip = im_np[::-1, :]   # flip by y coordinate\n",
    "Image.fromarray(im_flip)"
   ]
  },
  {
   "cell_type": "code",
   "execution_count": null,
   "metadata": {
    "pycharm": {
     "is_executing": true,
     "name": "#%%\n"
    }
   },
   "outputs": [],
   "source": [
    "im_flip = im_np[:, ::-1]   # flip by x coordinate\n",
    "Image.fromarray(im_flip)"
   ]
  },
  {
   "cell_type": "code",
   "execution_count": null,
   "metadata": {
    "pycharm": {
     "is_executing": true,
     "name": "#%%\n"
    }
   },
   "outputs": [],
   "source": [
    "im_flip = im_np[::-1, ::-1]   # flip by both coordinates\n",
    "Image.fromarray(im_flip)"
   ]
  },
  {
   "cell_type": "markdown",
   "metadata": {
    "pycharm": {
     "name": "#%% md\n"
    }
   },
   "source": [
    "#### 4.7.3 Downsample using numpy slicing"
   ]
  },
  {
   "cell_type": "code",
   "execution_count": null,
   "metadata": {
    "pycharm": {
     "is_executing": true,
     "name": "#%%\n"
    }
   },
   "outputs": [],
   "source": [
    "im_down = im_np[:, ::2]  # downsample 2x in x coordinate\n",
    "Image.fromarray(im_down)"
   ]
  },
  {
   "cell_type": "code",
   "execution_count": null,
   "metadata": {
    "pycharm": {
     "is_executing": true,
     "name": "#%%\n"
    }
   },
   "outputs": [],
   "source": [
    "im_down = im_np[::2, :]  # downsample 2x in y coordinate\n",
    "Image.fromarray(im_down)"
   ]
  },
  {
   "cell_type": "code",
   "execution_count": null,
   "metadata": {
    "pycharm": {
     "is_executing": true,
     "name": "#%%\n"
    }
   },
   "outputs": [],
   "source": [
    "im_down = im_np[::2, ::2]  # downsample 2x in both coordinate\n",
    "Image.fromarray(im_down)"
   ]
  },
  {
   "cell_type": "markdown",
   "metadata": {
    "pycharm": {
     "name": "#%% md\n"
    }
   },
   "source": [
    "#### 4.7.4 Edit image using slicing"
   ]
  },
  {
   "cell_type": "code",
   "execution_count": null,
   "metadata": {
    "pycharm": {
     "is_executing": true,
     "name": "#%%\n"
    }
   },
   "outputs": [],
   "source": [
    "im_edit = im_np.copy()   # copy image, so im_np is unchanged\n",
    "im_edit[200:380, 200:380] = [0, 0, 0]  # fill it with black\n",
    "Image.fromarray(im_edit)"
   ]
  },
  {
   "cell_type": "code",
   "execution_count": null,
   "metadata": {
    "pycharm": {
     "is_executing": true,
     "name": "#%%\n"
    }
   },
   "outputs": [],
   "source": [
    "# fill with random noise\n",
    "im_edit[200:380, 200:380] = np.random.randint(0, 256, size=(180, 180, 3))\n",
    "Image.fromarray(im_edit)"
   ]
  },
  {
   "cell_type": "code",
   "execution_count": null,
   "metadata": {
    "pycharm": {
     "is_executing": true,
     "name": "#%%\n"
    }
   },
   "outputs": [],
   "source": [
    "# fill with other part of the image\n",
    "im_edit = im_np.copy()   # copy image, so im_np is unchanged\n",
    "im_edit[0:180, 0:180] = im_np[200:380, 200:380]\n",
    "Image.fromarray(im_edit)"
   ]
  },
  {
   "cell_type": "markdown",
   "metadata": {
    "pycharm": {
     "name": "#%% md\n"
    }
   },
   "source": [
    "### 4.8 Linear algebra"
   ]
  },
  {
   "cell_type": "code",
   "execution_count": null,
   "metadata": {
    "pycharm": {
     "is_executing": true,
     "name": "#%%\n"
    }
   },
   "outputs": [],
   "source": [
    "A = np.random.randn(4, 4) # create a 2-dimensional 4x4 random matrix\n",
    "print('====================')\n",
    "print(A)\n",
    "\n",
    "B = A.T # transpose\n",
    "print('====================')\n",
    "print(B)\n",
    "\n",
    "C = A + B # take the matrix sum \n",
    "print('====================')\n",
    "print(C)"
   ]
  },
  {
   "cell_type": "code",
   "execution_count": null,
   "metadata": {
    "pycharm": {
     "is_executing": true,
     "name": "#%%\n"
    }
   },
   "outputs": [],
   "source": [
    "# Determinant\n",
    "np.linalg.det(C)"
   ]
  },
  {
   "cell_type": "code",
   "execution_count": null,
   "metadata": {
    "pycharm": {
     "is_executing": true,
     "name": "#%%\n"
    }
   },
   "outputs": [],
   "source": [
    "# Solve\n",
    "b = np.random.randn(4)\n",
    "np.linalg.solve(C, b)"
   ]
  },
  {
   "cell_type": "code",
   "execution_count": null,
   "metadata": {
    "pycharm": {
     "is_executing": true,
     "name": "#%%\n"
    }
   },
   "outputs": [],
   "source": [
    "# Matrix-vector product\n",
    "v = np.asarray([1,-1,1,-1])\n",
    "C @ v"
   ]
  },
  {
   "cell_type": "code",
   "execution_count": null,
   "metadata": {
    "pycharm": {
     "is_executing": true,
     "name": "#%%\n"
    }
   },
   "outputs": [],
   "source": [
    "# compute Eigenvalues and Eigenvectors\n",
    "eigval, eigvec = np.linalg.eig(C)\n",
    "\n",
    "print(f'eigenvalues: {eigval}')\n",
    "print(f'eigenvectors: {eigvec}')"
   ]
  },
  {
   "cell_type": "code",
   "execution_count": null,
   "metadata": {
    "pycharm": {
     "is_executing": true,
     "name": "#%%\n"
    }
   },
   "outputs": [],
   "source": [
    "# Vector norm (should be 1)\n",
    "np.linalg.norm(eigvec[0], ord=2)"
   ]
  },
  {
   "cell_type": "code",
   "execution_count": null,
   "metadata": {
    "pycharm": {
     "is_executing": true,
     "name": "#%%\n"
    }
   },
   "outputs": [],
   "source": [
    "# Scalar product (should be close 0)\n",
    "np.dot(eigvec[0], eigvec[1])"
   ]
  },
  {
   "cell_type": "markdown",
   "metadata": {
    "pycharm": {
     "name": "#%% md\n"
    }
   },
   "source": [
    "### 4.8 Operations with shape"
   ]
  },
  {
   "cell_type": "markdown",
   "metadata": {
    "pycharm": {
     "name": "#%% md\n"
    }
   },
   "source": [
    "#### 4.8.1 Reshaping"
   ]
  },
  {
   "cell_type": "code",
   "execution_count": null,
   "metadata": {
    "pycharm": {
     "is_executing": true,
     "name": "#%%\n"
    }
   },
   "outputs": [],
   "source": [
    "a = np.array(range(15))\n",
    "a_reshape = a.reshape((5, 3))\n",
    "\n",
    "a_reshape"
   ]
  },
  {
   "cell_type": "code",
   "execution_count": null,
   "metadata": {
    "pycharm": {
     "is_executing": true,
     "name": "#%%\n"
    }
   },
   "outputs": [],
   "source": [
    "# Reshape is not always possible\n",
    "# Number of samples in input array should be the same as in output array\n",
    "a_reshape = a.reshape((4, 4))"
   ]
  },
  {
   "cell_type": "code",
   "execution_count": null,
   "metadata": {
    "pycharm": {
     "is_executing": true,
     "name": "#%%\n"
    }
   },
   "outputs": [],
   "source": [
    "a = np.array([1, 2, 3, 4, 5, 6, 5, 7, 8, 0])\n",
    "\n",
    "print(a.reshape(5, 2).base)  # return from n dimensional to 1 dimensional"
   ]
  },
  {
   "cell_type": "markdown",
   "metadata": {
    "pycharm": {
     "name": "#%% md\n"
    }
   },
   "source": [
    "#### 4.8.2 Unknown dimension"
   ]
  },
  {
   "cell_type": "markdown",
   "metadata": {
    "pycharm": {
     "name": "#%% md\n"
    }
   },
   "source": [
    "You are allowed to have one \"unknown\" dimension.\n",
    "\n",
    "Meaning that you do not have to specify an exact number for one of the dimensions in the reshape method."
   ]
  },
  {
   "cell_type": "code",
   "execution_count": null,
   "metadata": {
    "pycharm": {
     "is_executing": true,
     "name": "#%%\n"
    }
   },
   "outputs": [],
   "source": [
    "a = np.array(range(16))\n",
    "\n",
    "a_reshape = a.reshape(2, 2, -1)\n",
    "print(f'Shape: {a_reshape.shape}')\n",
    "print(a_reshape)"
   ]
  },
  {
   "cell_type": "markdown",
   "metadata": {
    "pycharm": {
     "name": "#%% md\n"
    }
   },
   "source": [
    "## 5. Matplotlib\n",
    "\n",
    "[Matplotlib](https://matplotlib.org/) is a python module, that we use to create visualizations : plots, images, etc. A very important submodule is matplotlib.pyplot which allows using Matplotlib in an imperative programming way (similar to Matlab).\n",
    "\n",
    "More tutorials: [link](https://matplotlib.org/stable/tutorials/index)"
   ]
  },
  {
   "cell_type": "markdown",
   "metadata": {
    "pycharm": {
     "name": "#%% md\n"
    }
   },
   "source": [
    "### 5.1 Display images in matplotlib"
   ]
  },
  {
   "cell_type": "code",
   "execution_count": null,
   "metadata": {
    "pycharm": {
     "is_executing": true,
     "name": "#%%\n"
    }
   },
   "outputs": [],
   "source": [
    "import matplotlib.pyplot as plt\n",
    "\n",
    "# one more jupyter magic command\n",
    "# %matplotlib notebook makes the plot interactive in notebook\n",
    "# %matplotlib inline makes the plot static in notebook\n",
    "%matplotlib notebook"
   ]
  },
  {
   "cell_type": "code",
   "execution_count": null,
   "metadata": {
    "pycharm": {
     "is_executing": true,
     "name": "#%%\n"
    }
   },
   "outputs": [],
   "source": [
    "# load image\n",
    "image = Image.open('./images/Lenna.png')\n",
    "\n",
    "plt.figure()              # create figure\n",
    "plt.title('Lenna image')  # set title\n",
    "plt.imshow(image)         # display image\n",
    "plt.axis('off')           # do not show axis\n",
    "plt.show()                # show plot, not necessary to run in jupyter notebook\n",
    "\n",
    "plt.savefig('./images/Lenna_plot.jpg')"
   ]
  },
  {
   "cell_type": "code",
   "execution_count": null,
   "metadata": {
    "pycharm": {
     "is_executing": true,
     "name": "#%%\n"
    }
   },
   "outputs": [],
   "source": [
    "# load image as a grayscale\n",
    "image = Image.open('./images/Lenna.png').convert('L')\n",
    "\n",
    "plt.figure()                           # create figure\n",
    "plt.title('Lenna image')               # set title\n",
    "plt.imshow(image, cmap='gray')         # display image\n",
    "plt.xlabel('my x labe')   # Displays a text under the current active axis.\n",
    "plt.ylabel('my y label')  # Displays a text on the left of the current active axis.\n",
    "plt.show()                             # show plot, not necessary to run in jupyter notebook\n",
    "\n",
    "plt.savefig('./images/Lenna_gray_plot.jpg')"
   ]
  },
  {
   "cell_type": "markdown",
   "metadata": {
    "pycharm": {
     "name": "#%% md\n"
    }
   },
   "source": [
    "### 5.2 Plots"
   ]
  },
  {
   "cell_type": "code",
   "execution_count": null,
   "metadata": {
    "pycharm": {
     "is_executing": true,
     "name": "#%%\n"
    }
   },
   "outputs": [],
   "source": [
    "x = np.linspace(0, 10, 100)\n",
    "y = np.sin(x)\n",
    "\n",
    "# plot a line\n",
    "plt.figure()\n",
    "plt.plot(x, y)\n",
    "plt.title('$sin(x)$')  # you can add formulas into title\n",
    "plt.show()"
   ]
  },
  {
   "cell_type": "code",
   "execution_count": null,
   "metadata": {
    "pycharm": {
     "is_executing": true,
     "name": "#%%\n"
    }
   },
   "outputs": [],
   "source": [
    "x = np.linspace(-10, 10, 100)\n",
    "y = x**2\n",
    "\n",
    "# scatter plot\n",
    "plt.figure()\n",
    "plt.scatter(x, y)\n",
    "plt.title('$x^2$')\n",
    "plt.show()"
   ]
  },
  {
   "cell_type": "code",
   "execution_count": null,
   "metadata": {
    "pycharm": {
     "is_executing": true,
     "name": "#%%\n"
    }
   },
   "outputs": [],
   "source": [
    "x = np.random.normal(size=(1_000))\n",
    "\n",
    "# build a histogram\n",
    "plt.figure()\n",
    "plt.title('Histogram')\n",
    "plt.hist(x)\n",
    "plt.show()"
   ]
  },
  {
   "cell_type": "markdown",
   "metadata": {
    "pycharm": {
     "name": "#%% md\n"
    }
   },
   "source": [
    "### 5.3 Subplots"
   ]
  },
  {
   "cell_type": "code",
   "execution_count": null,
   "metadata": {
    "pycharm": {
     "is_executing": true,
     "name": "#%%\n"
    }
   },
   "outputs": [],
   "source": [
    "# you can read image using matplotlib\n",
    "image = plt.imread('images/image.jpg')\n",
    "\n",
    "img_1 = image[:300, :600]\n",
    "img_2 = image[:300, 600:]\n",
    "img_3 = image[300:, :600]\n",
    "img_4 = image[300:, 600:]\n",
    "\n",
    "crops = [img_1, img_2, img_3, img_4]\n",
    "\n",
    "plt.figure()\n",
    "for i in range(4):\n",
    "    \n",
    "    plt.subplot(2, 2, i+1) # create a 2x2 grid of axes\n",
    "    plt.imshow(crops[i])\n",
    "    plt.title(f'image {i+1}')\n",
    "\n",
    "plt.show()"
   ]
  },
  {
   "cell_type": "markdown",
   "metadata": {
    "pycharm": {
     "name": "#%% md\n"
    }
   },
   "source": [
    "## 6. Scikit-image\n",
    "\n",
    "[scikit-image](https://scikit-image.org/) is an open-source image processing library for the Python programming language. It includes algorithms for segmentation, geometric transformations, color space manipulation, analysis, filtering, morphology, feature detection, and more.\n",
    "\n",
    "More tutorials: [link](https://scikit-image.org/docs/stable/index.html)"
   ]
  },
  {
   "cell_type": "code",
   "execution_count": null,
   "metadata": {
    "pycharm": {
     "is_executing": true,
     "name": "#%%\n"
    }
   },
   "outputs": [],
   "source": [
    "# install scikit-image\n",
    "!pip install scikit-image"
   ]
  },
  {
   "cell_type": "code",
   "execution_count": null,
   "metadata": {
    "pycharm": {
     "is_executing": true,
     "name": "#%%\n"
    }
   },
   "outputs": [],
   "source": [
    "from skimage.io import imread\n",
    "from skimage.transform import rotate"
   ]
  },
  {
   "cell_type": "code",
   "execution_count": null,
   "metadata": {
    "pycharm": {
     "is_executing": true,
     "name": "#%%\n"
    }
   },
   "outputs": [],
   "source": [
    "# load image using scikit-image\n",
    "img = imread('./images/image.jpg', as_gray=True) \n",
    "\n",
    "# apply rotation\n",
    "img_rot = rotate(img, angle=-30)\n",
    "\n",
    "plt.figure()\n",
    "plt.title('Rotated')\n",
    "plt.imshow(img_rot, cmap='gray')\n",
    "plt.colorbar()\n",
    "plt.axis('off')\n",
    "plt.show()"
   ]
  },
  {
   "cell_type": "markdown",
   "metadata": {
    "pycharm": {
     "name": "#%% md\n"
    }
   },
   "source": [
    "## 7. OpenCV\n",
    "[OpenCV](https://opencv.org/) is a library of programming functions mainly aimed at real-time computer vision\n",
    "\n",
    "More tutorials: [link](https://docs.opencv.org/4.x/d6/d00/tutorial_py_root.html)"
   ]
  },
  {
   "cell_type": "code",
   "execution_count": null,
   "metadata": {
    "pycharm": {
     "is_executing": true,
     "name": "#%%\n"
    }
   },
   "outputs": [],
   "source": [
    "# install opecv\n",
    "!pip install opencv-python"
   ]
  },
  {
   "cell_type": "code",
   "execution_count": null,
   "metadata": {
    "pycharm": {
     "is_executing": true,
     "name": "#%%\n"
    }
   },
   "outputs": [],
   "source": [
    "# import opencv\n",
    "import cv2\n",
    "\n",
    "# read image using opencv\n",
    "img = cv2.imread('./images/image.jpg')     # note that OpenCV reads images as BGR\n",
    "img = cv2.cvtColor(img, cv2.COLOR_BGR2RGB) # convert BGR2RGB\n",
    "\n",
    "img_blur = cv2.GaussianBlur(img, (33, 33), 3)\n",
    "\n",
    "plt.figure()\n",
    "plt.title('Blurred')\n",
    "plt.imshow(img_blur)\n",
    "plt.axis('off')\n",
    "plt.show()"
   ]
  }
 ],
 "metadata": {
  "kernelspec": {
   "display_name": "Python 3",
   "language": "python",
   "name": "python3"
  },
  "language_info": {
   "codemirror_mode": {
    "name": "ipython",
    "version": 3
   },
   "file_extension": ".py",
   "mimetype": "text/x-python",
   "name": "python",
   "nbconvert_exporter": "python",
   "pygments_lexer": "ipython3",
   "version": "3.7.6"
  }
 },
 "nbformat": 4,
 "nbformat_minor": 1
}