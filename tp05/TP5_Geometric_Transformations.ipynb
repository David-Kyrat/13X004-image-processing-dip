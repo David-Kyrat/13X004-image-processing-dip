{
 "cells": [
  {
   "cell_type": "markdown",
   "id": "8e646443-8d31-4aeb-b433-9dc0126f8cb6",
   "metadata": {},
   "source": [
    "<img style=\"float: left;\" src=\"datas/unige_csd.png\" alt=\"drawing\" width=\"200\"/>\n",
    "\n",
    "# <center>Imagerie Numérique 2023 Automne</center>\n",
    "\n",
    "<center>December 1st, 2023</center>"
   ]
  },
  {
   "cell_type": "markdown",
   "id": "ce5e2afe-2d29-4bfd-9619-db39f5327776",
   "metadata": {},
   "source": [
    "---"
   ]
  },
  {
   "cell_type": "markdown",
   "id": "4425ba36-7e67-4b3a-8a7f-987645239049",
   "metadata": {},
   "source": [
    "# <center><ins>TP Class N°5 - Geometric Transformations</ins></center>"
   ]
  },
  {
   "cell_type": "markdown",
   "id": "fc108f43-2124-442b-b647-0fd9f30a390d",
   "metadata": {},
   "source": [
    "#### *Instructions :*  \n",
    "\n",
    "* This TP should be completed and uploaded on Moodle before **Thursday 7 December 2023, 23h59**.\n",
    "* The name of the file you upload should be **TP5_name_surname.ipynb**.\n",
    "* If you need to include attached files to you TP, please archive them together in a folder named **TP5_name_surname.zip**."
   ]
  },
  {
   "cell_type": "markdown",
   "metadata": {},
   "source": [
    "Defining useful utility functions and basic imports."
   ]
  },
  {
   "cell_type": "code",
   "execution_count": 1,
   "metadata": {},
   "outputs": [],
   "source": [
    "import matplotlib.pyplot as plt\n",
    "import numpy as np\n",
    "from numpy import uint8 as u8, uint32 as u32, uint64 as u64, float64 as f64, float32 as f32\n",
    "from numpy.typing import NDArray\n",
    "from PIL import Image\n",
    "from copy import deepcopy\n",
    "import skimage\n",
    "\n",
    "FIG_SIZE = np.asarray((20, 10))\n",
    "FIG_SIZE_INV = np.asarray((10, 20))\n",
    "\n",
    "\n",
    "def imread(path: str, dtype: type = f64, grayscale: bool = False) -> NDArray:\n",
    "    \"\"\"\n",
    "    Load the image at given path into a numpy array\n",
    "    @param path: path to image (relative to this file)\n",
    "    @param dtype: if float, returned image will be in the [0, 1] range, else in [0, 255] (defaults to uint8)\n",
    "    @param grayscale: whether to load image as grayscale or not\n",
    "    @return: NDArray of shape (m, n, 3) if grayscale is False, else (m, n)\n",
    "    \"\"\"\n",
    "    # img: Image = Image.open(path)\n",
    "    # if grayscale: img = img.convert('L')\n",
    "    # out = np.array(img)\n",
    "    out: NDArray = plt.imread(path)\n",
    "    if grayscale and len(out.shape) >= 3: out = skimage.color.rgb2gray(out)\n",
    "    if dtype is None: return out\n",
    "\n",
    "    img_max = np.max(out)\n",
    "    is_img_float = img_max <= 1\n",
    "    is_given_float = np.issubdtype(dtype, np.floating)\n",
    "    if not is_given_float and is_img_float:\n",
    "        out = u8(out * 255)\n",
    "    elif is_given_float and not is_img_float:\n",
    "        out = f64(out / 255.)\n",
    "    return out if out.dtype == dtype else out.astype(dtype)\n",
    "\n",
    "\n",
    "def imshow_gray(data, show=True, axis=True, title=None):\n",
    "    plt.imshow(data, cmap=\"gray\")\n",
    "    plt.axis(\"on\" if axis else \"off\")\n",
    "    if title: plt.title(title)\n",
    "    if show: plt.show()\n",
    "\n",
    "\n",
    "def imshow(data, show=True, axis=True, title=None):\n",
    "    plt.imshow(data)\n",
    "    plt.axis(\"on\" if axis else \"off\")\n",
    "    if title: plt.title(title)\n",
    "    if show: plt.show()\n",
    "\n",
    "\n",
    "def MSE(im1, im2):\n",
    "    return np.sum((im1 - im2) ** 2) / (im1.shape[0] * im1.shape[1])\n",
    "\n",
    "\n",
    "def image_plot(idx: int, data, title=None, col=4, row=1, gray=True, vmax=None):\n",
    "    plt.subplot(row, col, idx + 1)\n",
    "    plt.title(title if title else \"\")\n",
    "    plt.axis(\"off\")\n",
    "    plt.imshow(data, cmap=\"gray\" if gray else None, vmin=0, vmax=vmax)\n",
    "    if idx == (col * row): plt.show()\n",
    "\n",
    "\n",
    "def bar_plot(idx: int, x, height, title=None, axis=\"off\", col=4, row=1, color=None):\n",
    "    plt.subplot(row, col, idx + 1)\n",
    "    plt.title(title if title else \"\")\n",
    "    plt.axis(axis)\n",
    "    plt.bar(x, height, color=color)\n",
    "    if idx == (col * row): plt.show()"
   ]
  },
  {
   "cell_type": "markdown",
   "id": "1300e2e3-da2b-4f69-a069-cb6187c78744",
   "metadata": {},
   "source": [
    "**General Advice:**\n",
    "\n",
    "*When doing image processing and performing operations on pixels, it is a good practice to use float values for pixels with intensity [0,1].\n",
    "Performing operations on uint8 encoded images can result in integer overflow and thus compute unpredictable values.*"
   ]
  },
  {
   "cell_type": "markdown",
   "id": "ec1e311e-4b31-472c-8639-5cc9a1a58867",
   "metadata": {
    "tags": []
   },
   "source": [
    "## Exercise 1 : Image rotations\n",
    "\n",
    "*(2 points)*"
   ]
  },
  {
   "cell_type": "markdown",
   "id": "7d28d5ee-949d-4f5e-a4b4-ccaecbe0f483",
   "metadata": {},
   "source": [
    "Import the RGB image : \"mushroom.jpg\"."
   ]
  },
  {
   "cell_type": "markdown",
   "id": "b5380ba4-1195-49e7-83ab-5c01cfad0609",
   "metadata": {},
   "source": [
    "(a) Using the geometric function *rotate* in the package *skimage.transform*, apply a $30°$ anticlockwise rotation to the image and a $100°$ clockwise rotation. Visualize all three images side-by-side."
   ]
  },
  {
   "cell_type": "code",
   "execution_count": null,
   "id": "bdda1f68-c8ed-4153-8b4f-873efaf809e2",
   "metadata": {},
   "outputs": [],
   "source": []
  },
  {
   "cell_type": "markdown",
   "id": "1e05676f-9df1-4c60-be5f-6f264b6b2180",
   "metadata": {},
   "source": [
    "(b) Explain the meaning of the parameters 'center' and 'resize' of the function. Comment the effects on the border. Explain it on your images."
   ]
  },
  {
   "cell_type": "code",
   "execution_count": null,
   "id": "59606c2e-774b-4d43-8c85-9157a398d0cb",
   "metadata": {},
   "outputs": [],
   "source": []
  },
  {
   "cell_type": "markdown",
   "id": "0b427ddb-31bc-4c56-b5f2-31a9484a29df",
   "metadata": {},
   "source": [
    "(c) Starting with the original image :\n",
    "\n",
    "* Apply a rotation of 10 ° to the image and repeat this operation 36 times (this will perform a full 360 ° rotation). Try different parameters ’order’ (=0,1,2,3). Visualize the original image and the results side-by-side.\n",
    "\n",
    "* Compute MSE between the original image and the various results you obtained. **Hint :** Pay attention to the pixels you apply your MSE measure to, you may want to use a mask.\n",
    "\n",
    "* What is the effect of the parameter 'order' ? How does it work ?"
   ]
  },
  {
   "cell_type": "code",
   "execution_count": null,
   "id": "3bc687f2-4f8c-4fbc-b119-4d46c9ffb78a",
   "metadata": {
    "tags": []
   },
   "outputs": [],
   "source": []
  },
  {
   "cell_type": "markdown",
   "id": "77c58b01-35b6-4066-9840-cd721972fb77",
   "metadata": {
    "tags": []
   },
   "source": [
    "## Exercise 2 : QR code reading\n",
    "*(2 points)*"
   ]
  },
  {
   "cell_type": "markdown",
   "id": "fbca392c-e510-4aa4-b4d8-98eb7749fb4f",
   "metadata": {},
   "source": [
    "In this exercise, you will implement a simple QR code reader based on the image *QR_code_persp.jpg*"
   ]
  },
  {
   "cell_type": "markdown",
   "id": "1f52b1c5-654e-4332-b1af-3fa0a240fe57",
   "metadata": {},
   "source": [
    "(a) Start by loading the image and convert it to grayscale. Visualize it. Locate the four corners of the QR code in pixel coordinates."
   ]
  },
  {
   "cell_type": "code",
   "execution_count": null,
   "id": "f7f20005-5974-425a-be57-561ed3bdbf52",
   "metadata": {},
   "outputs": [],
   "source": []
  },
  {
   "cell_type": "markdown",
   "id": "43367a32-1620-41a2-a8d9-c62d4d09743e",
   "metadata": {},
   "source": [
    "(b) You now want to apply a projective transform to your QR code to have it squared and well-aligned.\n",
    "To do this, you will use the class *ProjectiveTransform()* in the package *skimage.transform* (see an example [here](https://scikit-image.org/docs/dev/auto_examples/transform/plot_geometric.html#sphx-glr-auto-examples-transform-plot-geometric-py)).\n",
    "\n",
    "* Use the method *estimate()* with a source shape $[[0, 0], [0, 610], [610, 610], [610, 0]]$\n",
    "* Visualize the projective matrix which is stored in the params attribute of your ProjectiveTransform() object.\n",
    "* Explain the meaning of the coefficients of this matrix."
   ]
  },
  {
   "cell_type": "code",
   "execution_count": null,
   "id": "b9f7b069-b4c0-4e8c-9bf8-b153277f9674",
   "metadata": {},
   "outputs": [],
   "source": []
  },
  {
   "cell_type": "markdown",
   "id": "725ef3cf-5956-494f-89a0-9b30ca16d2de",
   "metadata": {},
   "source": [
    "(c) Apply the projective transform to your image\n",
    "\n",
    "* Use the function *warp()* from *skimage.transform* with you ProjectiveTransform object as argument.\n",
    "* Visualize the transformed image."
   ]
  },
  {
   "cell_type": "code",
   "execution_count": null,
   "id": "78e00f42-df89-4a68-9cec-cf18ec1af375",
   "metadata": {},
   "outputs": [],
   "source": []
  },
  {
   "cell_type": "markdown",
   "id": "76134479-5649-4769-bae7-18be23edeab2",
   "metadata": {},
   "source": [
    "(d) What further steps would you consider in order to program a QR code reader ?"
   ]
  },
  {
   "cell_type": "markdown",
   "id": "8cb8ba1a-bb07-4550-ad22-352a453e22bb",
   "metadata": {},
   "source": [
    "-- your answer --"
   ]
  },
  {
   "cell_type": "markdown",
   "id": "721334af-406a-4591-8fe8-a03a814020f5",
   "metadata": {
    "tags": []
   },
   "source": [
    "## Exercise 3 : Nearest interpolation\n",
    "*(2 points)*"
   ]
  },
  {
   "cell_type": "markdown",
   "id": "cb960cf9-6c7f-442d-a52f-cc09c914d09f",
   "metadata": {},
   "source": [
    "In this exercise, you will write a program that performs rescaling of images using nearest interpolation."
   ]
  },
  {
   "cell_type": "markdown",
   "id": "2e6f40d1-9ac6-4c2f-a4a1-29283ef174ae",
   "metadata": {},
   "source": [
    "(a) Load the image 'lena.png' and convert it to grayscale. Perform a downsampling, taking one pixel every 3 horizontally and vertically."
   ]
  },
  {
   "cell_type": "code",
   "execution_count": null,
   "id": "2e23c980-091a-4009-aba4-65f727e1f5b0",
   "metadata": {},
   "outputs": [],
   "source": []
  },
  {
   "cell_type": "markdown",
   "id": "4bda7441-c8b6-4e04-8df0-bcc29af80616",
   "metadata": {},
   "source": [
    "(b) Write a function that performs resizing using the nearest interpolation and apply it to the downsampled image."
   ]
  },
  {
   "cell_type": "code",
   "execution_count": 63,
   "id": "52a610f3-2680-4cdd-912c-6a17dc918c86",
   "metadata": {},
   "outputs": [],
   "source": [
    "def resize_ni(img, output_shape):\n",
    "    \"\"\"\n",
    "    Changes the shape of the input image to match the output_shape\n",
    "\n",
    "    Parameters\n",
    "    ----------\n",
    "    img : numpy array\n",
    "        The input grayscale image\n",
    "\n",
    "    output_shape : numpy array\n",
    "        A couple of integers (x,y) giving the shape of the output image.\n",
    "\n",
    "    Outputs\n",
    "    ------\n",
    "    resized : numpy array\n",
    "        The image after the resizing algorithm. It should have shape output_shape.\n",
    "    \"\"\"\n",
    "    \n",
    "    return resized"
   ]
  },
  {
   "cell_type": "markdown",
   "id": "ff553ce2-1c3b-4176-a23c-5f5ffdf461ff",
   "metadata": {},
   "source": [
    "*Hint :* You may want to use *np.round()* to find the nearest-neighbouring point. Try not to use loops on pixels as this is veeeery slow."
   ]
  },
  {
   "cell_type": "markdown",
   "id": "24a809be-71e0-4f8e-a490-e19854eb85f3",
   "metadata": {},
   "source": [
    "(c) Apply the function *resize()* from *skimage.transform* with parameter 'order'=0. Visualize all three images (original, resize_ni and resize) side-by-side. Compute MSE between the original and the upscaled images. Comment your results."
   ]
  },
  {
   "cell_type": "code",
   "execution_count": null,
   "id": "aeaf3654-45ec-4587-9df4-21795b4832bf",
   "metadata": {},
   "outputs": [],
   "source": []
  }
 ],
 "metadata": {
  "kernelspec": {
   "display_name": "Python 3 (ipykernel)",
   "language": "python",
   "name": "python3"
  },
  "language_info": {
   "codemirror_mode": {
    "name": "ipython",
    "version": 3
   },
   "file_extension": ".py",
   "mimetype": "text/x-python",
   "name": "python",
   "nbconvert_exporter": "python",
   "pygments_lexer": "ipython3",
   "version": "3.11.6"
  }
 },
 "nbformat": 4,
 "nbformat_minor": 5
}
